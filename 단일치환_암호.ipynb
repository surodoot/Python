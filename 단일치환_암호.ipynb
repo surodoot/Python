{
  "nbformat": 4,
  "nbformat_minor": 0,
  "metadata": {
    "colab": {
      "name": "단일치환 암호.ipynb",
      "private_outputs": true,
      "provenance": [],
      "collapsed_sections": [],
      "include_colab_link": true
    },
    "kernelspec": {
      "name": "python3",
      "display_name": "Python 3"
    },
    "language_info": {
      "name": "python"
    }
  },
  "cells": [
    {
      "cell_type": "markdown",
      "metadata": {
        "id": "view-in-github",
        "colab_type": "text"
      },
      "source": [
        "<a href=\"https://colab.research.google.com/github/surodoot/Python/blob/main/%EB%8B%A8%EC%9D%BC%EC%B9%98%ED%99%98_%EC%95%94%ED%98%B8.ipynb\" target=\"_parent\"><img src=\"https://colab.research.google.com/assets/colab-badge.svg\" alt=\"Open In Colab\"/></a>"
      ]
    },
    {
      "cell_type": "code",
      "metadata": {
        "id": "hq0nrYCLzDWM"
      },
      "source": [
        "from google.colab import drive\n",
        "drive.mount('/content/drive')"
      ],
      "execution_count": null,
      "outputs": []
    },
    {
      "cell_type": "code",
      "metadata": {
        "id": "M-Tecrc8FkTs"
      },
      "source": [
        "import numpy as np\n",
        "import matplotlib.pyplot as plt\n",
        "import random\n",
        "import itertools as it\n",
        "import pandas as pd\n",
        "import re"
      ],
      "execution_count": null,
      "outputs": []
    },
    {
      "cell_type": "code",
      "metadata": {
        "id": "6awViECq-xNb"
      },
      "source": [
        "file = open('/content/drive/MyDrive/wikisent2.txt','r')\n",
        "sentences = file.readlines()"
      ],
      "execution_count": null,
      "outputs": []
    },
    {
      "cell_type": "code",
      "metadata": {
        "id": "-ZZlM6lmA_LC"
      },
      "source": [
        "len(sentences)"
      ],
      "execution_count": null,
      "outputs": []
    },
    {
      "cell_type": "code",
      "metadata": {
        "id": "Y9I1O8xrQQWP"
      },
      "source": [
        "words = pd.read_csv('/content/drive/MyDrive/Words.csv')\n",
        "words"
      ],
      "execution_count": null,
      "outputs": []
    },
    {
      "cell_type": "code",
      "metadata": {
        "id": "6on9HWnKQ40v"
      },
      "source": [
        "word_top = set(words['word'][:10000])"
      ],
      "execution_count": null,
      "outputs": []
    },
    {
      "cell_type": "code",
      "metadata": {
        "id": "przwtyc8Dq8o"
      },
      "source": [
        "random.shuffle(sentences)\n",
        "sample_size = 1000\n",
        "sample = sentences[0:sample_size]"
      ],
      "execution_count": null,
      "outputs": []
    },
    {
      "cell_type": "code",
      "metadata": {
        "id": "nlfrV6t3BV1_"
      },
      "source": [
        "sample"
      ],
      "execution_count": null,
      "outputs": []
    },
    {
      "cell_type": "code",
      "metadata": {
        "id": "ZJn-cL28Dw7L"
      },
      "source": [
        "alphabet = 'abcdefghijklmnopqrstuvwxyz'\n",
        "alpha_freq = {}\n",
        "\n",
        "for i in alphabet:\n",
        "    alpha_freq[i] = 0\n",
        "\n",
        "for sentence in sample:\n",
        "    for i in sentence:\n",
        "        i = i.lower()\n",
        "        if alphabet.find(i) != -1:\n",
        "            alpha_freq[i] += 1\n",
        "\n",
        "plt.bar(range(26), alpha_freq.values())\n",
        "plt.xticks(range(26), alphabet)\n",
        "plt.show()"
      ],
      "execution_count": null,
      "outputs": []
    },
    {
      "cell_type": "code",
      "metadata": {
        "id": "-t3PuV1unQG4"
      },
      "source": [
        "alpha_rank = sorted(alpha_freq.keys(), key = lambda x : alpha_freq[x], reverse=True)"
      ],
      "execution_count": null,
      "outputs": []
    },
    {
      "cell_type": "code",
      "metadata": {
        "id": "leVGzU-Kmiya"
      },
      "source": [
        "print(alpha_rank)"
      ],
      "execution_count": null,
      "outputs": []
    },
    {
      "cell_type": "code",
      "metadata": {
        "id": "qgn1b-frjPBd"
      },
      "source": [
        "top_num = 100\n",
        "\n",
        "alphabet3 = list(it.product(alphabet, repeat=3))\n",
        "alphabet3 = [i[0]+i[1]+i[2] for i in alphabet3]\n",
        "\n",
        "alpha3_freq = {}\n",
        "\n",
        "for i in alphabet3:\n",
        "    alpha3_freq[i] = 0\n",
        "\n",
        "for sentence in sample:\n",
        "    for i in range(len(sentence)-2):\n",
        "        c = sentence[i] + sentence[i+1] + sentence[i+2]\n",
        "        c = c.lower()\n",
        "        if c[0] in alphabet and c[1] in alphabet and c[2] in alphabet:\n",
        "            alpha3_freq[c] += 1\n",
        "\n",
        "alpha3_top = set(sorted(alpha3_freq.keys(), key = lambda x : alpha3_freq[x], reverse=True)[:top_num])"
      ],
      "execution_count": null,
      "outputs": []
    },
    {
      "cell_type": "code",
      "metadata": {
        "id": "m_xTX3m8DjfX"
      },
      "source": [
        "sorted(alpha3_freq.keys(), key = lambda x : alpha3_freq[x], reverse=True)[:top_num]"
      ],
      "execution_count": null,
      "outputs": []
    },
    {
      "cell_type": "markdown",
      "metadata": {
        "id": "WsAX3H0qFd0D"
      },
      "source": [
        ""
      ]
    },
    {
      "cell_type": "code",
      "metadata": {
        "id": "ciaJoSJIP4nc"
      },
      "source": [
        "alphabet4 = list(it.product(alphabet, repeat=4))\n",
        "alphabet4 = [i[0]+i[1]+i[2]+i[3] for i in alphabet4]\n",
        "\n",
        "alpha4_freq = {}\n",
        "\n",
        "for i in alphabet4:\n",
        "    alpha4_freq[i] = 0\n",
        "\n",
        "for sentence in sample:\n",
        "    for i in range(len(sentence)-3):\n",
        "        c = sentence[i] + sentence[i+1] + sentence[i+2] + sentence[i+3]\n",
        "        c = c.lower()\n",
        "        if c[0] in alphabet and c[1] in alphabet and c[2] in alphabet and c[3] in alphabet:\n",
        "            alpha4_freq[c] += 1\n",
        "\n",
        "alpha4_top = set(sorted(alpha4_freq.keys(), key = lambda x : alpha4_freq[x], reverse=True)[:top_num*26])\n",
        "alpha4_top"
      ],
      "execution_count": null,
      "outputs": []
    },
    {
      "cell_type": "markdown",
      "metadata": {
        "id": "UiupIPBWuaYz"
      },
      "source": [
        ""
      ]
    },
    {
      "cell_type": "code",
      "metadata": {
        "id": "qjsHjfYMEvyw"
      },
      "source": [
        "sorted(alpha4_freq.keys(), key = lambda x : alpha4_freq[x], reverse=True)[2599]"
      ],
      "execution_count": null,
      "outputs": []
    },
    {
      "cell_type": "code",
      "metadata": {
        "id": "l7xJ58zqYbGP"
      },
      "source": [
        "def transform(text, from_, to_):\n",
        "    ret = ''\n",
        "    dic = {}\n",
        "    for i in range(len(from_)):\n",
        "        dic[from_[i]] = to_[i]\n",
        "    \n",
        "    for i in text:\n",
        "        isupper = i.isupper()\n",
        "        i = i.lower()\n",
        "        trans = i\n",
        "        if dic.get(i) != None:\n",
        "            trans = dic.get(i)\n",
        "        if isupper:\n",
        "            trans = trans.upper()\n",
        "        ret += trans\n",
        "    return ret\n",
        "\n",
        "def score3(text):\n",
        "    score = 0\n",
        "    for i in range(len(text)-2):\n",
        "        c = text[i] + text[i+1] + text[i+2]\n",
        "        c = c.lower()\n",
        "        if c in alpha3_top:\n",
        "            score += 1\n",
        "    return score\n",
        "\n",
        "def score4(text):\n",
        "    score = 0\n",
        "    for i in range(len(text)-3):\n",
        "        c = text[i] + text[i+1] + text[i+2] + text[i+3]\n",
        "        c = c.lower()\n",
        "        if c in alpha4_top:\n",
        "            score += 1\n",
        "    return score\n",
        "\n",
        "def word_count(text):\n",
        "    words = re.findall(\"[a-zA-Z]+\", text)\n",
        "    cnt = 0\n",
        "    for word in words:\n",
        "        word = word.lower()\n",
        "        if word in word_top:\n",
        "            cnt += 1\n",
        "    return cnt\n",
        "\n",
        "def weak_shuffle(list_, std=1):\n",
        "    list_ = list_[:]\n",
        "    size = len(list_)\n",
        "    normal = np.random.normal(0, std, size)\n",
        "    normal = normal.astype('int32')\n",
        "    normal = list(normal)\n",
        "    for i in range(size):\n",
        "        idx = i\n",
        "        idx += normal[i]\n",
        "        idx = max([0, idx])\n",
        "        idx = min([size-1, idx])\n",
        "        tmp = list_[i]\n",
        "        list_[i] = list_[idx]\n",
        "        list_[idx] = tmp\n",
        "    return list_\n",
        "\n",
        "def incode(text):\n",
        "    shuffled_alpha = [*alphabet]\n",
        "    random.shuffle(shuffled_alpha)\n",
        "    text = transform(t, alphabet, shuffled_alpha)\n",
        "    return text"
      ],
      "execution_count": null,
      "outputs": []
    },
    {
      "cell_type": "code",
      "metadata": {
        "id": "XoVqTcRAF_8o"
      },
      "source": [
        ""
      ],
      "execution_count": null,
      "outputs": []
    },
    {
      "cell_type": "code",
      "metadata": {
        "id": "BZD1V4igxKHZ"
      },
      "source": [
        "t = input('암호화할 문장을 입력하세요: ')\n",
        "incode(t)"
      ],
      "execution_count": null,
      "outputs": []
    },
    {
      "cell_type": "markdown",
      "metadata": {
        "id": "SpYbMLeLXbg8"
      },
      "source": [
        ""
      ]
    },
    {
      "cell_type": "code",
      "metadata": {
        "id": "QsYjzuogMByl"
      },
      "source": [
        "t = input('해독할 문장을 입력하세요: ')\n",
        "\n",
        "t_freq = {}\n",
        "\n",
        "for i in alphabet:\n",
        "    t_freq[i] = 0\n",
        "\n",
        "for i in t:\n",
        "    i = i.lower()\n",
        "    if alphabet.find(i) != -1:\n",
        "        t_freq[i] += 1\n",
        "\n",
        "t_rank = sorted(t_freq.keys(), key = lambda x : t_freq[x], reverse=True)\n",
        "\n",
        "t = transform(t, t_rank, alpha_rank)\n",
        "\n",
        "attempts = 1000\n",
        "repeats = 10\n",
        "max_score = score3(t) + score4(t)\n",
        "best_t = t\n",
        "\n",
        "score_trace, word_trace = [], []\n",
        "\n",
        "print('\\nUpdating Score')\n",
        "\n",
        "for repeat in range(repeats):\n",
        "    #if repeat == 1:\n",
        "        #attempts //= 10\n",
        "    for attempt in range(attempts):\n",
        "        std = random.uniform(0.5, 4)\n",
        "        shuffled = weak_shuffle(alpha_rank, std)\n",
        "        trans_t = transform(t, alpha_rank, shuffled)\n",
        "        t_score = score3(trans_t) + score4(trans_t)\n",
        "\n",
        "        if t_score > max_score:\n",
        "            max_score = t_score\n",
        "            best_t = trans_t\n",
        "\n",
        "            score_trace.append(max_score)\n",
        "            word_trace.append(word_count(best_t))\n",
        "    t = best_t\n",
        "\n",
        "    print('\\r{}/{}'.format(repeat+1, repeats), end='')\n",
        "\n",
        "print('\\n\\nUpdating Word Count')\n",
        "\n",
        "max_word = word_count(t)\n",
        "\n",
        "for repeat in range(repeats):\n",
        "    for i in range(26):\n",
        "        for j in range(26):\n",
        "            trans_t = transform(t, alphabet[i] + alphabet[j], alphabet[j] + alphabet[i])\n",
        "            t_word = word_count(trans_t)\n",
        "            if t_word > max_word:\n",
        "                max_word = t_word\n",
        "                best_t = trans_t\n",
        "                t = best_t\n",
        "\n",
        "                score_trace.append(score3(best_t) + score4(best_t))\n",
        "                word_trace.append(max_word)\n",
        "\n",
        "   \n",
        "\n",
        "    print('\\r{}/{}'.format(repeat+1, repeats), end='')\n",
        "\n",
        "print()\n",
        "print('\\n'+t)\n",
        "print()\n",
        "\n",
        "plt.plot(score_trace, label = 'Score')\n",
        "plt.plot(word_trace, label = 'Word Count')\n",
        "plt.legend()\n",
        "plt.show()"
      ],
      "execution_count": null,
      "outputs": []
    },
    {
      "cell_type": "markdown",
      "metadata": {
        "id": "BfEnkOiLyYLO"
      },
      "source": [
        "k"
      ]
    },
    {
      "cell_type": "code",
      "metadata": {
        "id": "nuE_AYls6MfK"
      },
      "source": [
        "words[:10000]"
      ],
      "execution_count": null,
      "outputs": []
    },
    {
      "cell_type": "code",
      "metadata": {
        "id": "DshLeSxf0xpJ"
      },
      "source": [
        "alpha_rank"
      ],
      "execution_count": null,
      "outputs": []
    },
    {
      "cell_type": "code",
      "metadata": {
        "id": "J_CxBaUoIENB"
      },
      "source": [
        "weak_shuffle(alpha_rank, 1)"
      ],
      "execution_count": null,
      "outputs": []
    },
    {
      "cell_type": "code",
      "metadata": {
        "id": "QswNPbCHNhAc"
      },
      "source": [
        "print('\\n\\nUpdating Word Count')\n",
        "t = 'Sdthough not the expdilit gosd, the keat alienle lsn resddy ke aeen sa refining ignorsnle. Alientiata, eapelisddy young onea, lsn get too okaeaaec with reaudta. Aoliety hedpa them sdong in thia msc lhsae. Kig cialoveriea sre loverec in the preaa, ahow up on the univeraity’a home psge, hedp get grsnta, snc msze the lsae for promotiona. Kut it’a wrong. Grest alientiata, the pioneera thst we scmire, sre not lonlernec with reaudta kut with the next jueationa. The highdy reapeltec phyailiat Enrilo Fermi todc hia atucenta thst sn experiment thst aulleaafuddy provea s hypotheaia ia s mesaurement; one thst coean’t ia s cialovery. S cialovery, sn unlovering ― of new ignorsnle. The Noked Pribe, the pinnslde of alientifil sllompdiahment, ia swsrcec, not for s difetime of alientifil slhievement, kut for s aingde cialovery, s reaudt. Even the Noked lommittee resdibea in aome wsy thst thia ia not resddy in the alientifil apirit, snc their swsrc litstiona lommondy honor the cialovery for hsving “openec s fiedc up,” “trsnaformec s fiedc,” or “tszen s fiedc in new snc unexpeltec cireltiona.”'\n",
        "max_word = word_count(t)\n",
        "\n",
        "for repeat in range(repeats):\n",
        "    for i in range(26):\n",
        "        for j in range(26):\n",
        "            trans_t = transform(t, alphabet[i] + alphabet[j], alphabet[j] + alphabet[i])\n",
        "            t_word = word_count(trans_t)\n",
        "            if t_word > max_word:\n",
        "                max_word = t_word\n",
        "                best_t = trans_t\n",
        "                t = best_t\n",
        "                print(alphabet[i])\n",
        "                print(alphabet[j])\n",
        "                print(t)\n",
        "                print(t_word)\n",
        "                score_trace.append(score3(best_t) + score4(best_t))\n",
        "                word_trace.append(max_word)\n",
        "    \n",
        "\n",
        "   \n",
        "\n",
        "    print('\\r{}/{}'.format(repeat+1, repeats), end='')\n",
        "\n",
        "print()\n",
        "print('\\n'+t)\n",
        "print()\n",
        "\n",
        "plt.plot(score_trace, label = 'Score')\n",
        "plt.plot(word_trace, label = 'Word Count')\n",
        "plt.legend()\n",
        "plt.show()"
      ],
      "execution_count": null,
      "outputs": []
    },
    {
      "cell_type": "code",
      "metadata": {
        "id": "mcPINtSiQqoW"
      },
      "source": [
        "t = 'Sdthough not the expdilit gosd, the keat alienle lsn resddy ke aeen sa refining ignorsnle. Alientiata, eapelisddy young onea, lsn get too okaeaaec with reaudta. Aoliety hedpa them sdong in thia msc lhsae. Kig cialoveriea sre loverec in the preaa, ahow up on the univeraity’a home psge, hedp get grsnta, snc msze the lsae for promotiona. Kut it’a wrong. Grest alientiata, the pioneera thst we scmire, sre not lonlernec with reaudta kut with the next jueationa. The highdy reapeltec phyailiat Enrilo Fermi todc hia atucenta thst sn experiment thst aulleaafuddy provea s hypotheaia ia s mesaurement; one thst coean’t ia s cialovery. S cialovery, sn unlovering ― of new ignorsnle. The Noked Pribe, the pinnslde of alientifil sllompdiahment, ia swsrcec, not for s difetime of alientifil slhievement, kut for s aingde cialovery, s reaudt. Even the Noked lommittee resdibea in aome wsy thst thia ia not resddy in the alientifil apirit, snc their swsrc litstiona lommondy honor the cialovery for hsving “openec s fiedc up,” “trsnaformec s fiedc,” or “tszen s fiedc in new snc unexpeltec cireltiona.”'\n",
        "t=transform(t, 'ab', 'ba')\n",
        "word_count(t)"
      ],
      "execution_count": null,
      "outputs": []
    },
    {
      "cell_type": "code",
      "metadata": {
        "id": "yrcC2jxiSGLo"
      },
      "source": [
        "transform('Sdthough not the expdilit gosd, the keat alienle lsn resddy ke aeen sa refining ignorsnle', 'ab', 'ba')"
      ],
      "execution_count": null,
      "outputs": []
    },
    {
      "cell_type": "code",
      "metadata": {
        "id": "hIG_x9KvTqnz"
      },
      "source": [
        "transform('Sdthough not', 'ab', 'ba')"
      ],
      "execution_count": null,
      "outputs": []
    },
    {
      "cell_type": "code",
      "metadata": {
        "id": "gIQzf34BT13w"
      },
      "source": [
        ""
      ],
      "execution_count": null,
      "outputs": []
    }
  ]
}
{
 "cells": [
  {
   "cell_type": "code",
   "execution_count": 1,
   "id": "5d3b0fc7",
   "metadata": {},
   "outputs": [],
   "source": [
    "import numpy as np "
   ]
  },
  {
   "cell_type": "code",
   "execution_count": 6,
   "id": "763cdd78",
   "metadata": {},
   "outputs": [
    {
     "name": "stdout",
     "output_type": "stream",
     "text": [
      "[[1 2 3]\n",
      " [4 5 6]]\n",
      "[4 5 6]\n",
      "6\n"
     ]
    }
   ],
   "source": [
    "A = np.array([[1,2,3],[4,5,6]])\n",
    "print(A)\n",
    "print(A[1])\n",
    "print(A[1][2])"
   ]
  },
  {
   "cell_type": "code",
   "execution_count": 41,
   "id": "a3ccebf3",
   "metadata": {},
   "outputs": [
    {
     "name": "stdout",
     "output_type": "stream",
     "text": [
      "[[24 23 24]\n",
      " [12 22 12]]\n"
     ]
    }
   ],
   "source": [
    "seed = \n",
    "\n",
    "B = np.random.RandomState(seed).randint(10,25, size=6).reshape(2,3) # 2 by 3 matrix\n",
    "\n",
    "print(B)"
   ]
  },
  {
   "cell_type": "code",
   "execution_count": 44,
   "id": "e3032971",
   "metadata": {},
   "outputs": [
    {
     "name": "stdout",
     "output_type": "stream",
     "text": [
      "[[1 2]\n",
      " [3 4]\n",
      " [5 6]]\n"
     ]
    }
   ],
   "source": [
    "C = np.matrix([[1,2], [3,4], [5,6]])\n",
    "\n",
    "print(C)"
   ]
  },
  {
   "cell_type": "code",
   "execution_count": 57,
   "id": "f4cd95a1",
   "metadata": {},
   "outputs": [
    {
     "name": "stdout",
     "output_type": "stream",
     "text": [
      "[[0 0 0]\n",
      " [0 0 0]\n",
      " [0 0 0]]\n"
     ]
    }
   ],
   "source": [
    "D = np.zeros( shape = (3, 3), dtype = np.int8 ) # 3 by 3 zero Matrix, data type : 8 bit int\n",
    "\n",
    "print(D) "
   ]
  },
  {
   "cell_type": "code",
   "execution_count": 47,
   "id": "d064d4cc",
   "metadata": {},
   "outputs": [
    {
     "name": "stdout",
     "output_type": "stream",
     "text": [
      "[[1. 1. 1.]\n",
      " [1. 1. 1.]\n",
      " [1. 1. 1.]]\n"
     ]
    }
   ],
   "source": [
    "E = np.ones(shape = (3, 3)) # 3 by 3 basic matrix, data type : 64 bit float\n",
    "\n",
    "print(E)"
   ]
  },
  {
   "cell_type": "code",
   "execution_count": 60,
   "id": "2d1c45d9",
   "metadata": {},
   "outputs": [
    {
     "name": "stdout",
     "output_type": "stream",
     "text": [
      "[[1 0 0 0 0]\n",
      " [0 1 0 0 0]\n",
      " [0 0 1 0 0]\n",
      " [0 0 0 1 0]\n",
      " [0 0 0 0 1]]\n"
     ]
    }
   ],
   "source": [
    "F = np.identity(5 ,dtype = np.int64 ) # 5 by 5 identity matrix, data type : 64 bit int\n",
    "\n",
    "print(F)"
   ]
  },
  {
   "cell_type": "code",
   "execution_count": 68,
   "id": "a9fa72e6",
   "metadata": {},
   "outputs": [
    {
     "name": "stdout",
     "output_type": "stream",
     "text": [
      "[[1. 0. 0. 0. 0.]\n",
      " [0. 1. 0. 0. 0.]\n",
      " [0. 0. 1. 0. 0.]]\n"
     ]
    }
   ],
   "source": [
    "U = np.eye( 3, 5, dtype = np.float64 )# 3 by 5 matrix, data type : 64 bit float\n",
    "\n",
    "print(U)"
   ]
  },
  {
   "cell_type": "code",
   "execution_count": 71,
   "id": "cb175558",
   "metadata": {},
   "outputs": [
    {
     "name": "stdout",
     "output_type": "stream",
     "text": [
      "[[22 28]\n",
      " [49 64]]\n"
     ]
    }
   ],
   "source": [
    "print( A @ C ) # Matrix multiplication Operator : \"@\"\n",
    "print( A * C ) # Matrix multiplication Operator : \"*\""
   ]
  },
  {
   "cell_type": "code",
   "execution_count": 72,
   "id": "5243532b",
   "metadata": {},
   "outputs": [
    {
     "name": "stdout",
     "output_type": "stream",
     "text": [
      "[[22 28]\n",
      " [49 64]]\n"
     ]
    }
   ],
   "source": [
    "print( np.matmul(A,C) ) # Matrix multiplication Function : np.matmul(,)"
   ]
  },
  {
   "cell_type": "code",
   "execution_count": 73,
   "id": "e0897a55",
   "metadata": {},
   "outputs": [
    {
     "data": {
      "text/plain": [
       "array([[1, 4],\n",
       "       [2, 5],\n",
       "       [3, 6]])"
      ]
     },
     "execution_count": 73,
     "metadata": {},
     "output_type": "execute_result"
    }
   ],
   "source": [
    "print( A.T ) #Transposition Matrix Operator : \".T\""
   ]
  },
  {
   "cell_type": "code",
   "execution_count": 78,
   "id": "a82cf9fd",
   "metadata": {},
   "outputs": [
    {
     "name": "stdout",
     "output_type": "stream",
     "text": [
      "[[1 2 3]\n",
      " [4 5 6]]\n",
      "[[22 49]\n",
      " [28 64]]\n"
     ]
    }
   ],
   "source": [
    "print( (A.T).T ) # A = (A.T).T\n",
    "print( (A @ C).T ) # (A @ C ).T = B.T * A.T"
   ]
  }
 ],
 "metadata": {
  "kernelspec": {
   "display_name": "Python 3 (ipykernel)",
   "language": "python",
   "name": "python3"
  },
  "language_info": {
   "codemirror_mode": {
    "name": "ipython",
    "version": 3
   },
   "file_extension": ".py",
   "mimetype": "text/x-python",
   "name": "python",
   "nbconvert_exporter": "python",
   "pygments_lexer": "ipython3",
   "version": "3.9.7"
  }
 },
 "nbformat": 4,
 "nbformat_minor": 5
}

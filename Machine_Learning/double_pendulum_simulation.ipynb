{
  "nbformat": 4,
  "nbformat_minor": 0,
  "metadata": {
    "colab": {
      "name": "double_pendulum_simulation.ipynb",
      "provenance": [],
      "authorship_tag": "ABX9TyMSsExMsZ5glFKOchOQyrE2",
      "include_colab_link": true
    },
    "kernelspec": {
      "name": "python3",
      "display_name": "Python 3"
    },
    "language_info": {
      "name": "python"
    }
  },
  "cells": [
    {
      "cell_type": "markdown",
      "metadata": {
        "id": "view-in-github",
        "colab_type": "text"
      },
      "source": [
        "<a href=\"https://colab.research.google.com/github/surodoot/Python/blob/main/double_pendulum_simulation.ipynb\" target=\"_parent\"><img src=\"https://colab.research.google.com/assets/colab-badge.svg\" alt=\"Open In Colab\"/></a>"
      ]
    },
    {
      "cell_type": "code",
      "execution_count": 9,
      "metadata": {
        "colab": {
          "base_uri": "https://localhost:8080/",
          "height": 518
        },
        "id": "APN9PmJpAjaZ",
        "outputId": "a32e313e-daeb-4bb5-c59e-bccc67e6d093"
      },
      "outputs": [
        {
          "output_type": "display_data",
          "data": {
            "image/png": "[encoded data removed]",
            "text/plain": [
              "<Figure size 288x288 with 1 Axes>"
            ]
          },
          "metadata": {
            "needs_background": "light"
          }
        },
        {
          "output_type": "display_data",
          "data": {
            "image/png": "[encoded data removed]",
            "text/plain": [
              "<Figure size 432x288 with 1 Axes>"
            ]
          },
          "metadata": {
            "needs_background": "light"
          }
        }
      ],
      "source": [
        "import numpy as np\n",
        "import matplotlib.pyplot as plt\n",
        "from matplotlib.animation import FuncAnimation as animation\n",
        "import math\n",
        "\n",
        "theta1 = 1.5\n",
        "theta2 = 1.5\n",
        "m1 = 1\n",
        "m2 = 1\n",
        "l1 = 1\n",
        "l2 = 1\n",
        "g = 9.8\n",
        "\n",
        "dt = 0.01\n",
        "dtheta1 = 0\n",
        "dtheta2 = 0\n",
        "ddtheta1 = 0\n",
        "ddtheta2 = 0\n",
        "\n",
        "linex1 = np.array([0, l1*math.cos(theta1 - math.pi/2)])\n",
        "liney1 = np.array([0, l1*math.sin(theta1 - math.pi/2)])\n",
        "linex2 = np.array([l1*math.cos(theta1 - math.pi/2), l1*math.cos(theta1 - math.pi/2) + l2*math.cos(theta2 - math.pi/2)])\n",
        "liney2 = np.array([l1*math.sin(theta1 - math.pi/2), l1*math.sin(theta1 - math.pi/2) + l2*math.sin(theta2 - math.pi/2)])\n",
        "\n",
        "figure, ax = plt.subplots(figsize=(4,4))\n",
        "line1, = ax.plot(linex1, liney1, 'b')\n",
        "line2, = ax.plot(linex2, liney2, 'b')\n",
        "scatter = ax.scatter(linex2, liney2, c = 'b')\n",
        "plt.axis([-(l1+l2+1), l1+l2+1, -(l1+l2+1), l1+l2+1])\n",
        "\n",
        "time = []\n",
        "trace1 = []\n",
        "trace2 = []\n",
        "n = 0;\n",
        "\n",
        "def update():\n",
        "    global theta1, dtheta2, dtheta1, theta2, ddtheta1, ddtheta2, linex1, liney1, linex2, liney2, trace1, trace2, time, n\n",
        "    theta1 += dtheta1 * dt\n",
        "    theta2 += dtheta2 * dt\n",
        "    dtheta1 += ddtheta1 * dt\n",
        "    dtheta2 += ddtheta2 * dt\n",
        "    ddtheta1 = (-g*(2*m1+m2)*math.sin(theta1)-m2*g*math.sin(theta1-2*theta2)-2*math.sin(theta1-theta2)*m2*((dtheta2**2)*l2+(dtheta1**2)*l1*math.cos(theta1-theta2)))/(l1*(2*m1+m2-m2*(math.cos(2*theta1-2*theta2))))\n",
        "    ddtheta2 = (2*math.sin(theta1-theta2)*((dtheta1**2)*l1*(m1+m2)+g*(m1+m2)*math.cos(theta1)+(dtheta2**2)*l2*m2*math.cos(theta1-theta2)))/(l2*(2*m1+m2-m2*(math.cos(2*theta1-2*theta2))))\n",
        "    linex1 = np.array([0, l1*math.cos(theta1 - math.pi/2)])\n",
        "    liney1 = np.array([0, l1*math.sin(theta1 - math.pi/2)])\n",
        "    linex2 = np.array([l1*math.cos(theta1 - math.pi/2), l1*math.cos(theta1 - math.pi/2) + l2*math.cos(theta2 - math.pi/2)])\n",
        "    liney2 = np.array([l1*math.sin(theta1 - math.pi/2), l1*math.sin(theta1 - math.pi/2) + l2*math.sin(theta2 - math.pi/2)])\n",
        "    trace1 += [theta1]\n",
        "    trace2 += [theta2]\n",
        "    time += [dt*n]\n",
        "    n += 1\n",
        "\n",
        "\n",
        "def animate(i):\n",
        "    update()\n",
        "    line1.set_data(linex1, liney1)\n",
        "    line2.set_data(linex2, liney2)\n",
        "    scatter.set_offsets([(linex2[0], liney2[0]), (linex2[1], liney2[1])])\n",
        "\n",
        "ani = animation(figure, animate , frames=1, interval=dt*1000)\n",
        "\n",
        "afig, mplanim = b.plot(y={'orb': 'ws'}, \n",
        "                       animate=True, save='animations_1.gif', save_kwargs={'writer': 'imagemagick'})\n",
        "\n",
        "#ani.save(r'animation.gif', writer='Pillow', fps=60)\n",
        "plt.show()\n",
        "plt.plot(time, trace1)\n",
        "plt.plot(time, trace2)\n",
        "plt.legend(['theta1', 'theta2'])\n",
        "plt.show()"
      ]
    }
  ]
}

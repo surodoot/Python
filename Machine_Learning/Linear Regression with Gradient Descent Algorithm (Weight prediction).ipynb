{
  "nbformat": 4,
  "nbformat_minor": 0,
  "metadata": {
    "colab": {
      "name": "Untitled0.ipynb",
      "provenance": [],
      "authorship_tag": "ABX9TyNh38bnqRcgbk4ZIRkSuUZg",
      "include_colab_link": true
    },
    "kernelspec": {
      "name": "python3",
      "display_name": "Python 3"
    },
    "language_info": {
      "name": "python"
    }
  },
  "cells": [
    {
      "cell_type": "markdown",
      "metadata": {
        "id": "view-in-github",
        "colab_type": "text"
      },
      "source": [
        "<a href=\"https://colab.research.google.com/github/surodoot/Python/blob/main/Tensorflow/Linear%20Regression%20with%20Gradient%20Descent%20Algorithm%20(Weight%20prediction).ipynb\" target=\"_parent\"><img src=\"https://colab.research.google.com/assets/colab-badge.svg\" alt=\"Open In Colab\"/></a>"
      ]
    },
    {
      "cell_type": "code",
      "metadata": {
        "colab": {
          "base_uri": "https://localhost:8080/"
        },
        "id": "v1yPMBQDbV7f",
        "outputId": "f712300c-afd1-4d91-b292-fe7a224011fd"
      },
      "source": [
        "import tensorflow.compat.v1 as tf\n",
        "tf.disable_v2_behavior()\n",
        "\n",
        "xData = [ 120, 130, 140, 150, 160, 170, 180, 190]\n",
        "yData= [ 35, 40, 45, 50, 55, 65, 80, 95]\n",
        "\n",
        "W = tf.Variable(tf.random_uniform([1], -5, 5))\n",
        "b = tf.Variable(tf.random_uniform([1], -100, 100))\n",
        "X = tf.placeholder(tf.float32)\n",
        "Y = tf.placeholder(tf.float32)\n",
        "H = W * X + b\n",
        "\n",
        "cost = tf.reduce_mean(tf.square( H - Y) )\n",
        "\n",
        "a = tf.Variable(0.0000001)\n",
        "optimizer = tf.train.GradientDescentOptimizer(a)\n",
        "train = optimizer.minimize(cost)\n",
        "init = tf.global_variables_initializer()\n",
        "sess = tf.Session()\n",
        "sess.run(init)\n",
        "\n",
        "for i in range ( 50001 ) :\n",
        "    sess.run( train, feed_dict = { X : xData, Y : yData } )\n",
        "    \n",
        "    if not i % 5000 :\n",
        "        print( i, sess.run(W))\n",
        "\n",
        "height = input(\"키를 입력해주세요 :\")\n",
        "\n",
        "print(height, sess.run(H, feed_dict = {X : height}))"
      ],
      "execution_count": 6,
      "outputs": [
        {
          "output_type": "stream",
          "text": [
            "0 [0.0483977]\n",
            "5000 [0.8255639]\n",
            "10000 [0.8255639]\n",
            "15000 [0.8255639]\n",
            "20000 [0.8255639]\n",
            "25000 [0.8255639]\n",
            "30000 [0.8255639]\n",
            "35000 [0.8255639]\n",
            "40000 [0.8255639]\n",
            "45000 [0.8255639]\n",
            "50000 [0.8255639]\n",
            "키를 입력해주세요 :183\n",
            "183 [81.20567]\n"
          ],
          "name": "stdout"
        }
      ]
    }
  ]
}

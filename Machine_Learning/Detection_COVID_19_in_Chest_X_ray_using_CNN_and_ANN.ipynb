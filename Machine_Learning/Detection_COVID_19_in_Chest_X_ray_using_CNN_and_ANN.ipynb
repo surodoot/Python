{
  "nbformat": 4,
  "nbformat_minor": 0,
  "metadata": {
    "colab": {
      "name": "Detection COVID-19 in Chest X-ray using CNN and ANN",
      "provenance": [],
      "mount_file_id": "1mrSAipb87FgDEj6cj81FXFrBpcRU4_Qs",
      "authorship_tag": "ABX9TyMJeeu0iZMUE6Qacm8lkJL3",
      "include_colab_link": true
    },
    "kernelspec": {
      "name": "python3",
      "display_name": "Python 3"
    },
    "language_info": {
      "name": "python"
    }
  },
  "cells": [
    {
      "cell_type": "markdown",
      "metadata": {
        "id": "view-in-github",
        "colab_type": "text"
      },
      "source": [
        "<a href=\"https://colab.research.google.com/github/surodoot/Python/blob/main/Machine_Learning/Detection_COVID_19_in_Chest_X_ray_using_CNN_and_ANN.ipynb\" target=\"_parent\"><img src=\"https://colab.research.google.com/assets/colab-badge.svg\" alt=\"Open In Colab\"/></a>"
      ]
    },
    {
      "cell_type": "code",
      "execution_count": 2,
      "metadata": {
        "colab": {
          "base_uri": "https://localhost:8080/"
        },
        "id": "6wiJyIf8blt9",
        "outputId": "a5112848-41da-4a82-a0d1-dde5afeab5f7"
      },
      "outputs": [
        {
          "output_type": "stream",
          "name": "stdout",
          "text": [
            "Epoch 1/10\n",
            "178/178 [==============================] - 160s 898ms/step - loss: 4.9564 - accuracy: 0.8712 - val_loss: 0.2473 - val_accuracy: 0.9187\n",
            "Epoch 2/10\n",
            "178/178 [==============================] - 158s 890ms/step - loss: 0.3544 - accuracy: 0.8982 - val_loss: 0.2551 - val_accuracy: 0.9201\n",
            "Epoch 3/10\n",
            "178/178 [==============================] - 159s 893ms/step - loss: 0.1957 - accuracy: 0.9370 - val_loss: 0.2099 - val_accuracy: 0.9135\n",
            "Epoch 4/10\n",
            "178/178 [==============================] - 158s 888ms/step - loss: 0.1675 - accuracy: 0.9404 - val_loss: 0.4020 - val_accuracy: 0.9318\n",
            "Epoch 5/10\n",
            "178/178 [==============================] - 159s 891ms/step - loss: 0.1481 - accuracy: 0.9595 - val_loss: 0.2231 - val_accuracy: 0.9371\n",
            "Epoch 6/10\n",
            "178/178 [==============================] - 158s 890ms/step - loss: 0.1867 - accuracy: 0.9618 - val_loss: 0.4921 - val_accuracy: 0.8519\n",
            "Epoch 7/10\n",
            "178/178 [==============================] - 158s 887ms/step - loss: 0.2362 - accuracy: 0.9139 - val_loss: 0.4064 - val_accuracy: 0.8873\n",
            "Epoch 8/10\n",
            "178/178 [==============================] - 157s 883ms/step - loss: 0.2216 - accuracy: 0.9241 - val_loss: 0.2566 - val_accuracy: 0.9240\n",
            "Epoch 9/10\n",
            "178/178 [==============================] - 158s 887ms/step - loss: 0.1067 - accuracy: 0.9612 - val_loss: 0.2140 - val_accuracy: 0.9384\n",
            "Epoch 10/10\n",
            "178/178 [==============================] - 158s 886ms/step - loss: 0.1667 - accuracy: 0.9471 - val_loss: 0.5068 - val_accuracy: 0.8899\n"
          ]
        },
        {
          "output_type": "execute_result",
          "data": {
            "text/plain": [
              "<keras.callbacks.History at 0x7f66a9e22310>"
            ]
          },
          "metadata": {},
          "execution_count": 2
        }
      ],
      "source": [
        "import numpy as np  \n",
        "import os\n",
        "from glob import glob\n",
        "from matplotlib import pyplot as plt\n",
        "import cv2\n",
        "from sklearn.model_selection import train_test_split\n",
        "import tensorflow as tf\n",
        "from tensorflow.keras.layers import Conv2D, MaxPool2D, Flatten, Dense, Dropout\n",
        "\n",
        "height = 100\n",
        "width = 100\n",
        "\n",
        "def imread_gray(file):\n",
        "    return cv2.imread(file, cv2.IMREAD_GRAYSCALE)\n",
        "\n",
        "def resize(img):\n",
        "    return cv2.resize(img, (height, width))\n",
        "\n",
        "os.chdir(\"/content/drive/MyDrive/dataset/COVID-19 Chest X-ray/COVID\") #dataset source : https://www.kaggle.com/ahmadalmahsiri/covid19-chest-xray\n",
        "covid_data = glob(\"*\")\n",
        "covid_data = list(map(imread_gray, covid_data))\n",
        "covid_data = list(map(resize, covid_data))\n",
        "\n",
        "os.chdir(\"/content/drive/MyDrive/dataset/COVID-19 Chest X-ray/Normal\")  #dataset source : https://www.kaggle.com/ahmadalmahsiri/covid19-chest-xray\n",
        "normal_data = glob(\"*\")\n",
        "normal_data = list(map(imread_gray, normal_data))\n",
        "normal_data = list(map(resize, normal_data))\n",
        "\n",
        "covid_len = len(covid_data)\n",
        "normal_len = len(normal_data)\n",
        "\n",
        "covid_data = np.array(covid_data)\n",
        "normal_data = np.array(normal_data)\n",
        "\n",
        "x = np.concatenate((covid_data, normal_data), axis = 0)\n",
        "y = np.concatenate((np.ones(covid_len), np.zeros(normal_len)), axis = 0)\n",
        "\n",
        "x_train, x_test, y_train, y_test = train_test_split(x, \n",
        "                                                    y, \n",
        "                                                    test_size=0.3, \n",
        "                                                    shuffle=True)\n",
        "\n",
        "model = tf.keras.Sequential()\n",
        "\n",
        "model.add(Conv2D(input_shape = (height, width, 1), kernel_size = (5, 5),\n",
        "                filters = 32, activation='relu'))\n",
        "model.add(Conv2D(kernel_size = (5, 5), filters = 64, \n",
        "                 activation = 'relu'))\n",
        "model.add(MaxPool2D(pool_size = (2, 2)))\n",
        "model.add(Dropout(0.25))\n",
        "\n",
        "model.add(Flatten())\n",
        "\n",
        "model.add(Dense(128, activation = 'relu'))\n",
        "model.add(Dense(128, activation = 'relu'))\n",
        "model.add(Dense(64, activation = 'relu'))\n",
        "model.add(Dropout(0.5))\n",
        "model.add(Dense(2, activation = 'softmax'))\n",
        "\n",
        "model.compile(loss = 'sparse_categorical_crossentropy',\n",
        "             optimizer = tf.keras.optimizers.Adam(),\n",
        "             metrics = ['accuracy'])\n",
        "\n",
        "model.fit(x_train, y_train, batch_size = 10, epochs = 10, \n",
        "        validation_data = (x_test, y_test))\n"
      ]
    },
    {
      "cell_type": "code",
      "source": [
        "model.predict(x)"
      ],
      "metadata": {
        "colab": {
          "base_uri": "https://localhost:8080/"
        },
        "id": "CEdJ5QUqrA0O",
        "outputId": "17765a6c-7519-40a4-9a81-f9320ec0042d"
      },
      "execution_count": 3,
      "outputs": [
        {
          "output_type": "execute_result",
          "data": {
            "text/plain": [
              "array([[1.6228437e-02, 9.8377150e-01],\n",
              "       [2.9939724e-02, 9.7006029e-01],\n",
              "       [9.9185014e-01, 8.1499098e-03],\n",
              "       ...,\n",
              "       [1.0000000e+00, 1.1649470e-15],\n",
              "       [9.9999952e-01, 4.9616045e-07],\n",
              "       [1.0000000e+00, 3.1710246e-11]], dtype=float32)"
            ]
          },
          "metadata": {},
          "execution_count": 3
        }
      ]
    },
    {
      "cell_type": "code",
      "source": [
        "model.summary()"
      ],
      "metadata": {
        "colab": {
          "base_uri": "https://localhost:8080/"
        },
        "id": "XVTLPG8atZtW",
        "outputId": "b5dd8b85-9700-4731-adbd-6534b2ca2987"
      },
      "execution_count": 15,
      "outputs": [
        {
          "output_type": "stream",
          "name": "stdout",
          "text": [
            "Model: \"sequential_1\"\n",
            "_________________________________________________________________\n",
            " Layer (type)                Output Shape              Param #   \n",
            "=================================================================\n",
            " conv2d_2 (Conv2D)           (None, 96, 96, 32)        832       \n",
            "                                                                 \n",
            " conv2d_3 (Conv2D)           (None, 92, 92, 64)        51264     \n",
            "                                                                 \n",
            " max_pooling2d_1 (MaxPooling  (None, 46, 46, 64)       0         \n",
            " 2D)                                                             \n",
            "                                                                 \n",
            " dropout_2 (Dropout)         (None, 46, 46, 64)        0         \n",
            "                                                                 \n",
            " flatten_1 (Flatten)         (None, 135424)            0         \n",
            "                                                                 \n",
            " dense_4 (Dense)             (None, 128)               17334400  \n",
            "                                                                 \n",
            " dense_5 (Dense)             (None, 128)               16512     \n",
            "                                                                 \n",
            " dense_6 (Dense)             (None, 64)                8256      \n",
            "                                                                 \n",
            " dropout_3 (Dropout)         (None, 64)                0         \n",
            "                                                                 \n",
            " dense_7 (Dense)             (None, 2)                 130       \n",
            "                                                                 \n",
            "=================================================================\n",
            "Total params: 17,411,394\n",
            "Trainable params: 17,411,394\n",
            "Non-trainable params: 0\n",
            "_________________________________________________________________\n"
          ]
        }
      ]
    },
    {
      "cell_type": "code",
      "source": [
        "from IPython.display import SVG\n",
        "from keras.utils.vis_utils import model_to_dot\n",
        "\n",
        "#%matplotlib inline\n",
        "\n",
        "SVG(model_to_dot(model, show_shapes=True).create(prog='dot', format='svg'))"
      ],
      "metadata": {
        "colab": {
          "base_uri": "https://localhost:8080/",
          "height": 1000
        },
        "id": "v9L0Pmenrhy-",
        "outputId": "5e17f4af-cd4f-4c11-a6bd-b3eccfecb2c7"
      },
      "execution_count": 14,
      "outputs": [
        {
          "output_type": "execute_result",
          "data": {
            "text/plain": [
              "<IPython.core.display.SVG object>"
            ],
            "image/svg+xml": "<svg height=\"1180pt\" viewBox=\"0.00 0.00 461.00 885.00\" width=\"615pt\" xmlns=\"http://www.w3.org/2000/svg\" xmlns:xlink=\"http://www.w3.org/1999/xlink\">\n<g class=\"graph\" id=\"graph0\" transform=\"scale(1.3333 1.3333) rotate(0) translate(4 881)\">\n<title>G</title>\n<polygon fill=\"#ffffff\" points=\"-4,4 -4,-881 457,-881 457,4 -4,4\" stroke=\"transparent\"/>\n<!-- 140078948077200 -->\n<g class=\"node\" id=\"node1\">\n<title>140078948077200</title>\n<polygon fill=\"none\" points=\"0,-830.5 0,-876.5 453,-876.5 453,-830.5 0,-830.5\" stroke=\"#000000\"/>\n<text fill=\"#000000\" font-family=\"Times,serif\" font-size=\"14.00\" text-anchor=\"middle\" x=\"56.5\" y=\"-861.3\">conv2d_2_input</text>\n<polyline fill=\"none\" points=\"0,-853.5 113,-853.5 \" stroke=\"#000000\"/>\n<text fill=\"#000000\" font-family=\"Times,serif\" font-size=\"14.00\" text-anchor=\"middle\" x=\"56.5\" y=\"-838.3\">InputLayer</text>\n<polyline fill=\"none\" points=\"113,-830.5 113,-876.5 \" stroke=\"#000000\"/>\n<text fill=\"#000000\" font-family=\"Times,serif\" font-size=\"14.00\" text-anchor=\"middle\" x=\"142\" y=\"-861.3\">input:</text>\n<polyline fill=\"none\" points=\"113,-853.5 171,-853.5 \" stroke=\"#000000\"/>\n<text fill=\"#000000\" font-family=\"Times,serif\" font-size=\"14.00\" text-anchor=\"middle\" x=\"142\" y=\"-838.3\">output:</text>\n<polyline fill=\"none\" points=\"171,-830.5 171,-876.5 \" stroke=\"#000000\"/>\n<text fill=\"#000000\" font-family=\"Times,serif\" font-size=\"14.00\" text-anchor=\"middle\" x=\"241.5\" y=\"-849.8\">[(None, 100, 100, 1)]</text>\n<polyline fill=\"none\" points=\"312,-830.5 312,-876.5 \" stroke=\"#000000\"/>\n<text fill=\"#000000\" font-family=\"Times,serif\" font-size=\"14.00\" text-anchor=\"middle\" x=\"382.5\" y=\"-849.8\">[(None, 100, 100, 1)]</text>\n</g>\n<!-- 140078947681424 -->\n<g class=\"node\" id=\"node2\">\n<title>140078947681424</title>\n<polygon fill=\"none\" points=\"31.5,-747.5 31.5,-793.5 421.5,-793.5 421.5,-747.5 31.5,-747.5\" stroke=\"#000000\"/>\n<text fill=\"#000000\" font-family=\"Times,serif\" font-size=\"14.00\" text-anchor=\"middle\" x=\"69\" y=\"-778.3\">conv2d_2</text>\n<polyline fill=\"none\" points=\"31.5,-770.5 106.5,-770.5 \" stroke=\"#000000\"/>\n<text fill=\"#000000\" font-family=\"Times,serif\" font-size=\"14.00\" text-anchor=\"middle\" x=\"69\" y=\"-755.3\">Conv2D</text>\n<polyline fill=\"none\" points=\"106.5,-747.5 106.5,-793.5 \" stroke=\"#000000\"/>\n<text fill=\"#000000\" font-family=\"Times,serif\" font-size=\"14.00\" text-anchor=\"middle\" x=\"135.5\" y=\"-778.3\">input:</text>\n<polyline fill=\"none\" points=\"106.5,-770.5 164.5,-770.5 \" stroke=\"#000000\"/>\n<text fill=\"#000000\" font-family=\"Times,serif\" font-size=\"14.00\" text-anchor=\"middle\" x=\"135.5\" y=\"-755.3\">output:</text>\n<polyline fill=\"none\" points=\"164.5,-747.5 164.5,-793.5 \" stroke=\"#000000\"/>\n<text fill=\"#000000\" font-family=\"Times,serif\" font-size=\"14.00\" text-anchor=\"middle\" x=\"230.5\" y=\"-766.8\">(None, 100, 100, 1)</text>\n<polyline fill=\"none\" points=\"296.5,-747.5 296.5,-793.5 \" stroke=\"#000000\"/>\n<text fill=\"#000000\" font-family=\"Times,serif\" font-size=\"14.00\" text-anchor=\"middle\" x=\"359\" y=\"-766.8\">(None, 96, 96, 32)</text>\n</g>\n<!-- 140078948077200&#45;&gt;140078947681424 -->\n<g class=\"edge\" id=\"edge1\">\n<title>140078948077200-&gt;140078947681424</title>\n<path d=\"M226.5,-830.3799C226.5,-822.1745 226.5,-812.7679 226.5,-803.8786\" fill=\"none\" stroke=\"#000000\"/>\n<polygon fill=\"#000000\" points=\"230.0001,-803.784 226.5,-793.784 223.0001,-803.784 230.0001,-803.784\" stroke=\"#000000\"/>\n</g>\n<!-- 140078948382096 -->\n<g class=\"node\" id=\"node3\">\n<title>140078948382096</title>\n<polygon fill=\"none\" points=\"35,-664.5 35,-710.5 418,-710.5 418,-664.5 35,-664.5\" stroke=\"#000000\"/>\n<text fill=\"#000000\" font-family=\"Times,serif\" font-size=\"14.00\" text-anchor=\"middle\" x=\"72.5\" y=\"-695.3\">conv2d_3</text>\n<polyline fill=\"none\" points=\"35,-687.5 110,-687.5 \" stroke=\"#000000\"/>\n<text fill=\"#000000\" font-family=\"Times,serif\" font-size=\"14.00\" text-anchor=\"middle\" x=\"72.5\" y=\"-672.3\">Conv2D</text>\n<polyline fill=\"none\" points=\"110,-664.5 110,-710.5 \" stroke=\"#000000\"/>\n<text fill=\"#000000\" font-family=\"Times,serif\" font-size=\"14.00\" text-anchor=\"middle\" x=\"139\" y=\"-695.3\">input:</text>\n<polyline fill=\"none\" points=\"110,-687.5 168,-687.5 \" stroke=\"#000000\"/>\n<text fill=\"#000000\" font-family=\"Times,serif\" font-size=\"14.00\" text-anchor=\"middle\" x=\"139\" y=\"-672.3\">output:</text>\n<polyline fill=\"none\" points=\"168,-664.5 168,-710.5 \" stroke=\"#000000\"/>\n<text fill=\"#000000\" font-family=\"Times,serif\" font-size=\"14.00\" text-anchor=\"middle\" x=\"230.5\" y=\"-683.8\">(None, 96, 96, 32)</text>\n<polyline fill=\"none\" points=\"293,-664.5 293,-710.5 \" stroke=\"#000000\"/>\n<text fill=\"#000000\" font-family=\"Times,serif\" font-size=\"14.00\" text-anchor=\"middle\" x=\"355.5\" y=\"-683.8\">(None, 92, 92, 64)</text>\n</g>\n<!-- 140078947681424&#45;&gt;140078948382096 -->\n<g class=\"edge\" id=\"edge2\">\n<title>140078947681424-&gt;140078948382096</title>\n<path d=\"M226.5,-747.3799C226.5,-739.1745 226.5,-729.7679 226.5,-720.8786\" fill=\"none\" stroke=\"#000000\"/>\n<polygon fill=\"#000000\" points=\"230.0001,-720.784 226.5,-710.784 223.0001,-720.784 230.0001,-720.784\" stroke=\"#000000\"/>\n</g>\n<!-- 140078948383376 -->\n<g class=\"node\" id=\"node4\">\n<title>140078948383376</title>\n<polygon fill=\"none\" points=\"10.5,-581.5 10.5,-627.5 442.5,-627.5 442.5,-581.5 10.5,-581.5\" stroke=\"#000000\"/>\n<text fill=\"#000000\" font-family=\"Times,serif\" font-size=\"14.00\" text-anchor=\"middle\" x=\"72.5\" y=\"-612.3\">max_pooling2d_1</text>\n<polyline fill=\"none\" points=\"10.5,-604.5 134.5,-604.5 \" stroke=\"#000000\"/>\n<text fill=\"#000000\" font-family=\"Times,serif\" font-size=\"14.00\" text-anchor=\"middle\" x=\"72.5\" y=\"-589.3\">MaxPooling2D</text>\n<polyline fill=\"none\" points=\"134.5,-581.5 134.5,-627.5 \" stroke=\"#000000\"/>\n<text fill=\"#000000\" font-family=\"Times,serif\" font-size=\"14.00\" text-anchor=\"middle\" x=\"163.5\" y=\"-612.3\">input:</text>\n<polyline fill=\"none\" points=\"134.5,-604.5 192.5,-604.5 \" stroke=\"#000000\"/>\n<text fill=\"#000000\" font-family=\"Times,serif\" font-size=\"14.00\" text-anchor=\"middle\" x=\"163.5\" y=\"-589.3\">output:</text>\n<polyline fill=\"none\" points=\"192.5,-581.5 192.5,-627.5 \" stroke=\"#000000\"/>\n<text fill=\"#000000\" font-family=\"Times,serif\" font-size=\"14.00\" text-anchor=\"middle\" x=\"255\" y=\"-600.8\">(None, 92, 92, 64)</text>\n<polyline fill=\"none\" points=\"317.5,-581.5 317.5,-627.5 \" stroke=\"#000000\"/>\n<text fill=\"#000000\" font-family=\"Times,serif\" font-size=\"14.00\" text-anchor=\"middle\" x=\"380\" y=\"-600.8\">(None, 46, 46, 64)</text>\n</g>\n<!-- 140078948382096&#45;&gt;140078948383376 -->\n<g class=\"edge\" id=\"edge3\">\n<title>140078948382096-&gt;140078948383376</title>\n<path d=\"M226.5,-664.3799C226.5,-656.1745 226.5,-646.7679 226.5,-637.8786\" fill=\"none\" stroke=\"#000000\"/>\n<polygon fill=\"#000000\" points=\"230.0001,-637.784 226.5,-627.784 223.0001,-637.784 230.0001,-637.784\" stroke=\"#000000\"/>\n</g>\n<!-- 140078947945232 -->\n<g class=\"node\" id=\"node5\">\n<title>140078947945232</title>\n<polygon fill=\"none\" points=\"34,-498.5 34,-544.5 419,-544.5 419,-498.5 34,-498.5\" stroke=\"#000000\"/>\n<text fill=\"#000000\" font-family=\"Times,serif\" font-size=\"14.00\" text-anchor=\"middle\" x=\"72.5\" y=\"-529.3\">dropout_2</text>\n<polyline fill=\"none\" points=\"34,-521.5 111,-521.5 \" stroke=\"#000000\"/>\n<text fill=\"#000000\" font-family=\"Times,serif\" font-size=\"14.00\" text-anchor=\"middle\" x=\"72.5\" y=\"-506.3\">Dropout</text>\n<polyline fill=\"none\" points=\"111,-498.5 111,-544.5 \" stroke=\"#000000\"/>\n<text fill=\"#000000\" font-family=\"Times,serif\" font-size=\"14.00\" text-anchor=\"middle\" x=\"140\" y=\"-529.3\">input:</text>\n<polyline fill=\"none\" points=\"111,-521.5 169,-521.5 \" stroke=\"#000000\"/>\n<text fill=\"#000000\" font-family=\"Times,serif\" font-size=\"14.00\" text-anchor=\"middle\" x=\"140\" y=\"-506.3\">output:</text>\n<polyline fill=\"none\" points=\"169,-498.5 169,-544.5 \" stroke=\"#000000\"/>\n<text fill=\"#000000\" font-family=\"Times,serif\" font-size=\"14.00\" text-anchor=\"middle\" x=\"231.5\" y=\"-517.8\">(None, 46, 46, 64)</text>\n<polyline fill=\"none\" points=\"294,-498.5 294,-544.5 \" stroke=\"#000000\"/>\n<text fill=\"#000000\" font-family=\"Times,serif\" font-size=\"14.00\" text-anchor=\"middle\" x=\"356.5\" y=\"-517.8\">(None, 46, 46, 64)</text>\n</g>\n<!-- 140078948383376&#45;&gt;140078947945232 -->\n<g class=\"edge\" id=\"edge4\">\n<title>140078948383376-&gt;140078947945232</title>\n<path d=\"M226.5,-581.3799C226.5,-573.1745 226.5,-563.7679 226.5,-554.8786\" fill=\"none\" stroke=\"#000000\"/>\n<polygon fill=\"#000000\" points=\"230.0001,-554.784 226.5,-544.784 223.0001,-554.784 230.0001,-554.784\" stroke=\"#000000\"/>\n</g>\n<!-- 140078913786384 -->\n<g class=\"node\" id=\"node6\">\n<title>140078913786384</title>\n<polygon fill=\"none\" points=\"46.5,-415.5 46.5,-461.5 406.5,-461.5 406.5,-415.5 46.5,-415.5\" stroke=\"#000000\"/>\n<text fill=\"#000000\" font-family=\"Times,serif\" font-size=\"14.00\" text-anchor=\"middle\" x=\"80\" y=\"-446.3\">flatten_1</text>\n<polyline fill=\"none\" points=\"46.5,-438.5 113.5,-438.5 \" stroke=\"#000000\"/>\n<text fill=\"#000000\" font-family=\"Times,serif\" font-size=\"14.00\" text-anchor=\"middle\" x=\"80\" y=\"-423.3\">Flatten</text>\n<polyline fill=\"none\" points=\"113.5,-415.5 113.5,-461.5 \" stroke=\"#000000\"/>\n<text fill=\"#000000\" font-family=\"Times,serif\" font-size=\"14.00\" text-anchor=\"middle\" x=\"142.5\" y=\"-446.3\">input:</text>\n<polyline fill=\"none\" points=\"113.5,-438.5 171.5,-438.5 \" stroke=\"#000000\"/>\n<text fill=\"#000000\" font-family=\"Times,serif\" font-size=\"14.00\" text-anchor=\"middle\" x=\"142.5\" y=\"-423.3\">output:</text>\n<polyline fill=\"none\" points=\"171.5,-415.5 171.5,-461.5 \" stroke=\"#000000\"/>\n<text fill=\"#000000\" font-family=\"Times,serif\" font-size=\"14.00\" text-anchor=\"middle\" x=\"234\" y=\"-434.8\">(None, 46, 46, 64)</text>\n<polyline fill=\"none\" points=\"296.5,-415.5 296.5,-461.5 \" stroke=\"#000000\"/>\n<text fill=\"#000000\" font-family=\"Times,serif\" font-size=\"14.00\" text-anchor=\"middle\" x=\"351.5\" y=\"-434.8\">(None, 135424)</text>\n</g>\n<!-- 140078947945232&#45;&gt;140078913786384 -->\n<g class=\"edge\" id=\"edge5\">\n<title>140078947945232-&gt;140078913786384</title>\n<path d=\"M226.5,-498.3799C226.5,-490.1745 226.5,-480.7679 226.5,-471.8786\" fill=\"none\" stroke=\"#000000\"/>\n<polygon fill=\"#000000\" points=\"230.0001,-471.784 226.5,-461.784 223.0001,-471.784 230.0001,-471.784\" stroke=\"#000000\"/>\n</g>\n<!-- 140078913985104 -->\n<g class=\"node\" id=\"node7\">\n<title>140078913985104</title>\n<polygon fill=\"none\" points=\"67,-332.5 67,-378.5 386,-378.5 386,-332.5 67,-332.5\" stroke=\"#000000\"/>\n<text fill=\"#000000\" font-family=\"Times,serif\" font-size=\"14.00\" text-anchor=\"middle\" x=\"99\" y=\"-363.3\">dense_4</text>\n<polyline fill=\"none\" points=\"67,-355.5 131,-355.5 \" stroke=\"#000000\"/>\n<text fill=\"#000000\" font-family=\"Times,serif\" font-size=\"14.00\" text-anchor=\"middle\" x=\"99\" y=\"-340.3\">Dense</text>\n<polyline fill=\"none\" points=\"131,-332.5 131,-378.5 \" stroke=\"#000000\"/>\n<text fill=\"#000000\" font-family=\"Times,serif\" font-size=\"14.00\" text-anchor=\"middle\" x=\"160\" y=\"-363.3\">input:</text>\n<polyline fill=\"none\" points=\"131,-355.5 189,-355.5 \" stroke=\"#000000\"/>\n<text fill=\"#000000\" font-family=\"Times,serif\" font-size=\"14.00\" text-anchor=\"middle\" x=\"160\" y=\"-340.3\">output:</text>\n<polyline fill=\"none\" points=\"189,-332.5 189,-378.5 \" stroke=\"#000000\"/>\n<text fill=\"#000000\" font-family=\"Times,serif\" font-size=\"14.00\" text-anchor=\"middle\" x=\"244\" y=\"-351.8\">(None, 135424)</text>\n<polyline fill=\"none\" points=\"299,-332.5 299,-378.5 \" stroke=\"#000000\"/>\n<text fill=\"#000000\" font-family=\"Times,serif\" font-size=\"14.00\" text-anchor=\"middle\" x=\"342.5\" y=\"-351.8\">(None, 128)</text>\n</g>\n<!-- 140078913786384&#45;&gt;140078913985104 -->\n<g class=\"edge\" id=\"edge6\">\n<title>140078913786384-&gt;140078913985104</title>\n<path d=\"M226.5,-415.3799C226.5,-407.1745 226.5,-397.7679 226.5,-388.8786\" fill=\"none\" stroke=\"#000000\"/>\n<polygon fill=\"#000000\" points=\"230.0001,-388.784 226.5,-378.784 223.0001,-388.784 230.0001,-388.784\" stroke=\"#000000\"/>\n</g>\n<!-- 140078913634512 -->\n<g class=\"node\" id=\"node8\">\n<title>140078913634512</title>\n<polygon fill=\"none\" points=\"78.5,-249.5 78.5,-295.5 374.5,-295.5 374.5,-249.5 78.5,-249.5\" stroke=\"#000000\"/>\n<text fill=\"#000000\" font-family=\"Times,serif\" font-size=\"14.00\" text-anchor=\"middle\" x=\"110.5\" y=\"-280.3\">dense_5</text>\n<polyline fill=\"none\" points=\"78.5,-272.5 142.5,-272.5 \" stroke=\"#000000\"/>\n<text fill=\"#000000\" font-family=\"Times,serif\" font-size=\"14.00\" text-anchor=\"middle\" x=\"110.5\" y=\"-257.3\">Dense</text>\n<polyline fill=\"none\" points=\"142.5,-249.5 142.5,-295.5 \" stroke=\"#000000\"/>\n<text fill=\"#000000\" font-family=\"Times,serif\" font-size=\"14.00\" text-anchor=\"middle\" x=\"171.5\" y=\"-280.3\">input:</text>\n<polyline fill=\"none\" points=\"142.5,-272.5 200.5,-272.5 \" stroke=\"#000000\"/>\n<text fill=\"#000000\" font-family=\"Times,serif\" font-size=\"14.00\" text-anchor=\"middle\" x=\"171.5\" y=\"-257.3\">output:</text>\n<polyline fill=\"none\" points=\"200.5,-249.5 200.5,-295.5 \" stroke=\"#000000\"/>\n<text fill=\"#000000\" font-family=\"Times,serif\" font-size=\"14.00\" text-anchor=\"middle\" x=\"244\" y=\"-268.8\">(None, 128)</text>\n<polyline fill=\"none\" points=\"287.5,-249.5 287.5,-295.5 \" stroke=\"#000000\"/>\n<text fill=\"#000000\" font-family=\"Times,serif\" font-size=\"14.00\" text-anchor=\"middle\" x=\"331\" y=\"-268.8\">(None, 128)</text>\n</g>\n<!-- 140078913985104&#45;&gt;140078913634512 -->\n<g class=\"edge\" id=\"edge7\">\n<title>140078913985104-&gt;140078913634512</title>\n<path d=\"M226.5,-332.3799C226.5,-324.1745 226.5,-314.7679 226.5,-305.8786\" fill=\"none\" stroke=\"#000000\"/>\n<polygon fill=\"#000000\" points=\"230.0001,-305.784 226.5,-295.784 223.0001,-305.784 230.0001,-305.784\" stroke=\"#000000\"/>\n</g>\n<!-- 140078913962256 -->\n<g class=\"node\" id=\"node9\">\n<title>140078913962256</title>\n<polygon fill=\"none\" points=\"82,-166.5 82,-212.5 371,-212.5 371,-166.5 82,-166.5\" stroke=\"#000000\"/>\n<text fill=\"#000000\" font-family=\"Times,serif\" font-size=\"14.00\" text-anchor=\"middle\" x=\"114\" y=\"-197.3\">dense_6</text>\n<polyline fill=\"none\" points=\"82,-189.5 146,-189.5 \" stroke=\"#000000\"/>\n<text fill=\"#000000\" font-family=\"Times,serif\" font-size=\"14.00\" text-anchor=\"middle\" x=\"114\" y=\"-174.3\">Dense</text>\n<polyline fill=\"none\" points=\"146,-166.5 146,-212.5 \" stroke=\"#000000\"/>\n<text fill=\"#000000\" font-family=\"Times,serif\" font-size=\"14.00\" text-anchor=\"middle\" x=\"175\" y=\"-197.3\">input:</text>\n<polyline fill=\"none\" points=\"146,-189.5 204,-189.5 \" stroke=\"#000000\"/>\n<text fill=\"#000000\" font-family=\"Times,serif\" font-size=\"14.00\" text-anchor=\"middle\" x=\"175\" y=\"-174.3\">output:</text>\n<polyline fill=\"none\" points=\"204,-166.5 204,-212.5 \" stroke=\"#000000\"/>\n<text fill=\"#000000\" font-family=\"Times,serif\" font-size=\"14.00\" text-anchor=\"middle\" x=\"247.5\" y=\"-185.8\">(None, 128)</text>\n<polyline fill=\"none\" points=\"291,-166.5 291,-212.5 \" stroke=\"#000000\"/>\n<text fill=\"#000000\" font-family=\"Times,serif\" font-size=\"14.00\" text-anchor=\"middle\" x=\"331\" y=\"-185.8\">(None, 64)</text>\n</g>\n<!-- 140078913634512&#45;&gt;140078913962256 -->\n<g class=\"edge\" id=\"edge8\">\n<title>140078913634512-&gt;140078913962256</title>\n<path d=\"M226.5,-249.3799C226.5,-241.1745 226.5,-231.7679 226.5,-222.8786\" fill=\"none\" stroke=\"#000000\"/>\n<polygon fill=\"#000000\" points=\"230.0001,-222.784 226.5,-212.784 223.0001,-222.784 230.0001,-222.784\" stroke=\"#000000\"/>\n</g>\n<!-- 140078913812112 -->\n<g class=\"node\" id=\"node10\">\n<title>140078913812112</title>\n<polygon fill=\"none\" points=\"79,-83.5 79,-129.5 374,-129.5 374,-83.5 79,-83.5\" stroke=\"#000000\"/>\n<text fill=\"#000000\" font-family=\"Times,serif\" font-size=\"14.00\" text-anchor=\"middle\" x=\"117.5\" y=\"-114.3\">dropout_3</text>\n<polyline fill=\"none\" points=\"79,-106.5 156,-106.5 \" stroke=\"#000000\"/>\n<text fill=\"#000000\" font-family=\"Times,serif\" font-size=\"14.00\" text-anchor=\"middle\" x=\"117.5\" y=\"-91.3\">Dropout</text>\n<polyline fill=\"none\" points=\"156,-83.5 156,-129.5 \" stroke=\"#000000\"/>\n<text fill=\"#000000\" font-family=\"Times,serif\" font-size=\"14.00\" text-anchor=\"middle\" x=\"185\" y=\"-114.3\">input:</text>\n<polyline fill=\"none\" points=\"156,-106.5 214,-106.5 \" stroke=\"#000000\"/>\n<text fill=\"#000000\" font-family=\"Times,serif\" font-size=\"14.00\" text-anchor=\"middle\" x=\"185\" y=\"-91.3\">output:</text>\n<polyline fill=\"none\" points=\"214,-83.5 214,-129.5 \" stroke=\"#000000\"/>\n<text fill=\"#000000\" font-family=\"Times,serif\" font-size=\"14.00\" text-anchor=\"middle\" x=\"254\" y=\"-102.8\">(None, 64)</text>\n<polyline fill=\"none\" points=\"294,-83.5 294,-129.5 \" stroke=\"#000000\"/>\n<text fill=\"#000000\" font-family=\"Times,serif\" font-size=\"14.00\" text-anchor=\"middle\" x=\"334\" y=\"-102.8\">(None, 64)</text>\n</g>\n<!-- 140078913962256&#45;&gt;140078913812112 -->\n<g class=\"edge\" id=\"edge9\">\n<title>140078913962256-&gt;140078913812112</title>\n<path d=\"M226.5,-166.3799C226.5,-158.1745 226.5,-148.7679 226.5,-139.8786\" fill=\"none\" stroke=\"#000000\"/>\n<polygon fill=\"#000000\" points=\"230.0001,-139.784 226.5,-129.784 223.0001,-139.784 230.0001,-139.784\" stroke=\"#000000\"/>\n</g>\n<!-- 140078913812368 -->\n<g class=\"node\" id=\"node11\">\n<title>140078913812368</title>\n<polygon fill=\"none\" points=\"89.5,-.5 89.5,-46.5 363.5,-46.5 363.5,-.5 89.5,-.5\" stroke=\"#000000\"/>\n<text fill=\"#000000\" font-family=\"Times,serif\" font-size=\"14.00\" text-anchor=\"middle\" x=\"121.5\" y=\"-31.3\">dense_7</text>\n<polyline fill=\"none\" points=\"89.5,-23.5 153.5,-23.5 \" stroke=\"#000000\"/>\n<text fill=\"#000000\" font-family=\"Times,serif\" font-size=\"14.00\" text-anchor=\"middle\" x=\"121.5\" y=\"-8.3\">Dense</text>\n<polyline fill=\"none\" points=\"153.5,-.5 153.5,-46.5 \" stroke=\"#000000\"/>\n<text fill=\"#000000\" font-family=\"Times,serif\" font-size=\"14.00\" text-anchor=\"middle\" x=\"182.5\" y=\"-31.3\">input:</text>\n<polyline fill=\"none\" points=\"153.5,-23.5 211.5,-23.5 \" stroke=\"#000000\"/>\n<text fill=\"#000000\" font-family=\"Times,serif\" font-size=\"14.00\" text-anchor=\"middle\" x=\"182.5\" y=\"-8.3\">output:</text>\n<polyline fill=\"none\" points=\"211.5,-.5 211.5,-46.5 \" stroke=\"#000000\"/>\n<text fill=\"#000000\" font-family=\"Times,serif\" font-size=\"14.00\" text-anchor=\"middle\" x=\"251.5\" y=\"-19.8\">(None, 64)</text>\n<polyline fill=\"none\" points=\"291.5,-.5 291.5,-46.5 \" stroke=\"#000000\"/>\n<text fill=\"#000000\" font-family=\"Times,serif\" font-size=\"14.00\" text-anchor=\"middle\" x=\"327.5\" y=\"-19.8\">(None, 2)</text>\n</g>\n<!-- 140078913812112&#45;&gt;140078913812368 -->\n<g class=\"edge\" id=\"edge10\">\n<title>140078913812112-&gt;140078913812368</title>\n<path d=\"M226.5,-83.3799C226.5,-75.1745 226.5,-65.7679 226.5,-56.8786\" fill=\"none\" stroke=\"#000000\"/>\n<polygon fill=\"#000000\" points=\"230.0001,-56.784 226.5,-46.784 223.0001,-56.784 230.0001,-56.784\" stroke=\"#000000\"/>\n</g>\n</g>\n</svg>"
          },
          "metadata": {},
          "execution_count": 14
        }
      ]
    }
  ]
}
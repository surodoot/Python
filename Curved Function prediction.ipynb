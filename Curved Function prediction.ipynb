{
  "nbformat": 4,
  "nbformat_minor": 0,
  "metadata": {
    "colab": {
      "name": "Untitled1.ipynb",
      "private_outputs": true,
      "provenance": [],
      "authorship_tag": "ABX9TyMXyUxd2b8LUispnC/sz4wp",
      "include_colab_link": true
    },
    "kernelspec": {
      "name": "python3",
      "display_name": "Python 3"
    },
    "language_info": {
      "name": "python"
    }
  },
  "cells": [
    {
      "cell_type": "markdown",
      "metadata": {
        "id": "view-in-github",
        "colab_type": "text"
      },
      "source": [
        "<a href=\"https://colab.research.google.com/github/surodoot/Python/blob/main/Curved%20Function%20prediction.ipynb\" target=\"_parent\"><img src=\"https://colab.research.google.com/assets/colab-badge.svg\" alt=\"Open In Colab\"/></a>"
      ]
    },
    {
      "cell_type": "code",
      "metadata": {
        "id": "uRKoh_MrFnLg"
      },
      "source": [
        "import matplotlib.pyplot as plt\n",
        "import numpy as np"
      ],
      "execution_count": null,
      "outputs": []
    },
    {
      "cell_type": "code",
      "metadata": {
        "id": "xqrqLNubEnhD"
      },
      "source": [
        "def grad(f, x, y, a):\n",
        "    h = 1e-5\n",
        "    gradient = np.zeros(len(a))\n",
        "    for i in range(len(a)):\n",
        "        ah = np.zeros(len(a))\n",
        "        ah[i] = h\n",
        "        gradient[i] = (error(f, x, y, a+ah) - error(f, x, y, a-ah)) / (2*h)\n",
        "    return gradient\n",
        "\n",
        "def error(f, x, y, a):\n",
        "    return np.sum((f(x, a) - y)**2) / len(x)"
      ],
      "execution_count": null,
      "outputs": []
    },
    {
      "cell_type": "code",
      "metadata": {
        "id": "9oj4IlX3IA_N"
      },
      "source": [
        "xdata = np.array([1, 3, 5, 6, 2, 4, 10, -1])\n",
        "ydata = np.array([9, 1, 1, 4, 4, 0, 36, 25])\n",
        "a = np.random.randn(3)\n",
        "LR = 0.0001\n",
        "EPOCHS = 100000\n",
        "err_trace = []\n",
        "\n",
        "for epoch in range(EPOCHS):\n",
        "    gr = grad(func, xdata, ydata, a)\n",
        "    a = a - LR*gr\n",
        "    err_trace.append(error(func, xdata, ydata, a))\n",
        "x = np.linspace(-5, 10, 100)\n",
        "plt.plot(x, func(x, a))\n",
        "plt.scatter(xdata, ydata)\n",
        "plt.grid()\n",
        "plt.show()\n",
        "for i in range(len(a)):\n",
        "    print('a{} = {}'.format(i, a[i]))\n",
        "plt.plot(err_trace)\n",
        "plt.show()"
      ],
      "execution_count": null,
      "outputs": []
    },
    {
      "cell_type": "code",
      "metadata": {
        "id": "r1BBrVbZINXk"
      },
      "source": [
        "def func(x, a):\n",
        "    return a[0]*(x**2) + a[1]*x + a[2]"
      ],
      "execution_count": null,
      "outputs": []
    },
    {
      "cell_type": "code",
      "metadata": {
        "id": "rM4AB0Ono10C"
      },
      "source": [
        ""
      ],
      "execution_count": null,
      "outputs": []
    }
  ]
}
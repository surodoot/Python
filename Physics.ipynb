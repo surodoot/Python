{
  "nbformat": 4,
  "nbformat_minor": 0,
  "metadata": {
    "colab": {
      "name": "Physics.ipynb",
      "provenance": [],
      "authorship_tag": "ABX9TyNu5Sfl2uiK8XrBA6oyca/C",
      "include_colab_link": true
    },
    "kernelspec": {
      "name": "python3",
      "display_name": "Python 3"
    },
    "language_info": {
      "name": "python"
    }
  },
  "cells": [
    {
      "cell_type": "markdown",
      "metadata": {
        "id": "view-in-github",
        "colab_type": "text"
      },
      "source": [
        "<a href=\"https://colab.research.google.com/github/surodoot/Python/blob/main/Physics.ipynb\" target=\"_parent\"><img src=\"https://colab.research.google.com/assets/colab-badge.svg\" alt=\"Open In Colab\"/></a>"
      ]
    },
    {
      "cell_type": "code",
      "execution_count": 1,
      "metadata": {
        "colab": {
          "base_uri": "https://localhost:8080/"
        },
        "id": "2zmEtF8q2Tu8",
        "outputId": "d4c39687-42f4-45ee-97ee-cdfc257a6847"
      },
      "outputs": [
        {
          "output_type": "stream",
          "name": "stdout",
          "text": [
            "      V_D  V_R\n",
            "0       0    0\n",
            "1       0    0\n",
            "2       0    0\n",
            "3       0    0\n",
            "4       0    0\n",
            "..    ...  ...\n",
            "237  1023  570\n",
            "238  1023  569\n",
            "239  1023  569\n",
            "240  1023  569\n",
            "241  1023  569\n",
            "\n",
            "[242 rows x 2 columns]\n",
            "      V_D  V_R\n",
            "0       0    0\n",
            "1       0    0\n",
            "2       0    0\n",
            "3       0    0\n",
            "4       0    0\n",
            "..    ...  ...\n",
            "310  1023  564\n",
            "311  1023  563\n",
            "312  1023  563\n",
            "313  1023  564\n",
            "314  1023  563\n",
            "\n",
            "[315 rows x 2 columns]\n"
          ]
        }
      ],
      "source": [
        "import pandas as pd\n",
        "\n",
        "data1 = pd.read_csv(\"/content/dataset2.csv\")\n",
        "data2 = pd.read_csv(\"/content/dataset3.csv\")\n",
        "\n",
        "print(data1)\n",
        "print(data2)"
      ]
    },
    {
      "cell_type": "code",
      "source": [
        "from sklearn.linear_model import LinearRegression as line\n",
        "import matplotlib.pyplot as plt\n",
        "import numpy as np\n",
        "\n",
        "cnt = 0\n",
        "x_data1 = []\n",
        "y_data1 = []\n",
        "\n",
        "V_R = [ i for i in data1[\"V_R\"] ]\n",
        "V_D = [ i for i in data1[\"V_D\"] ]\n",
        "\n",
        "for i in range(len(V_R)) :\n",
        "  if V_R[i] :\n",
        "    x_data1.append(V_D[i])\n",
        "    y_data1.append(V_R[i])\n",
        "\n",
        "x_data1 = np.array( x_data1 )\n",
        "l1 = line()\n",
        "l1.fit(x_data1.reshape(-1, 1),y_data1)\n",
        "\n",
        "plt.rc('font', size = 15)  \n",
        "plt.figure(figsize=(8, 8))\n",
        "plt.plot(data1[\"V_D\"], data1[\"V_R\"], 'o', color = 'green')\n",
        "plt.plot(data1[\"V_D\"], l1.predict(data1[\"V_D\"].values.reshape(-1, 1)), color = \"red\")\n",
        "plt.ylim(-100, 600)\n",
        "plt.title(\"100 K Ohm\")\n",
        "plt.savefig('dataset1.eps', format='eps')\n",
        "plt.show()\n",
        "\n",
        "a = float(l1.coef_)\n",
        "b = float(l1.intercept_)\n",
        "\n",
        "print(\"y =\", a,\"x\", b )\n",
        "print(\"Accuracy :\", l1.score(x_data1.reshape(-1, 1), y_data1))\n",
        "\n",
        "\n",
        "x = - ( b / a ) #ax + b = 0\n",
        "#print(x)\n",
        "V_0 = x * 5.0 / 1024.0\n",
        "\n",
        "print( \"V_0 =\", V_0)\n",
        "\n",
        "print(\"hf = eV_0\")\n",
        "print(\"h = (e * V_0)/f = (e * V_0 * lambda) / c\")\n",
        "\n",
        "e = 1.9 * 10 ** (-19)\n",
        "c = 3.0 * 10 ** 8\n",
        "lambda_ = 512 * 10 ** (-9)\n",
        "h = ( e * V_0 * lambda_ ) / c\n",
        "\n",
        "print(h)\n",
        "\n",
        "error_ =  h - 6.626 * 10 ** (-34)\n",
        "\n",
        "print(\"\\n\", error_, \"Error :\", error_ / (6.626 * 10 ** (-34) ) )"
      ],
      "metadata": {
        "colab": {
          "base_uri": "https://localhost:8080/",
          "height": 655
        },
        "id": "-LoyAc2j2trs",
        "outputId": "8c9555c3-b66f-4c62-b70a-5641b41eec54"
      },
      "execution_count": 2,
      "outputs": [
        {
          "output_type": "display_data",
          "data": {
            "text/plain": [
              "<Figure size 576x576 with 1 Axes>"
            ],
            "image/png": "[encoded data removed]"
          },
          "metadata": {
            "needs_background": "light"
          }
        },
        {
          "output_type": "stream",
          "name": "stdout",
          "text": [
            "y = 0.9616863823412648 x -417.1399889296626\n",
            "Accuracy : 0.9995834394731146\n",
            "V_0 = 2.1179631838364035\n",
            "hf = eV_0\n",
            "h = (e * V_0)/f = (e * V_0 * lambda) / c\n",
            "6.86784861745351e-34\n",
            "\n",
            " 2.4184861745350997e-35 Error : 0.03649994226584817\n"
          ]
        }
      ]
    },
    {
      "cell_type": "code",
      "source": [
        "cnt = 0\n",
        "x_data2 = []\n",
        "y_data2 = []\n",
        "\n",
        "V_R = [ i for i in data2[\"V_R\"] ]\n",
        "V_D = [ i for i in data2[\"V_D\"] ]\n",
        "\n",
        "for i in range(len(V_R)) :\n",
        "  if V_R[i] :\n",
        "    x_data2.append(V_D[i])\n",
        "    y_data2.append(V_R[i])\n",
        "\n",
        "x_data2 = np.array( x_data2 )\n",
        "l2 = line()\n",
        "l2.fit(x_data2.reshape(-1, 1),y_data2)\n",
        "\n",
        "plt.rc('font', size = 15)  \n",
        "plt.figure(figsize=(8, 8))\n",
        "plt.plot(data2[\"V_D\"], data2[\"V_R\"], 'o', color = 'green')\n",
        "plt.plot(data2[\"V_D\"], l2.predict(data2[\"V_D\"].values.reshape(-1, 1)), color = \"red\")\n",
        "plt.title(\"200 K Ohm\")\n",
        "plt.ylim(-100, 600)\n",
        "plt.savefig('dataset2.eps', format='eps')\n",
        "plt.show()\n",
        "\n",
        "a = float(l2.coef_)\n",
        "b = float(l2.intercept_)\n",
        "\n",
        "print(\"y =\", a,\"x\", b )\n",
        "print(\"Accuracy :\", l2.score(x_data1.reshape(-1, 1), y_data1))\n",
        "\n",
        "x = - ( b / a ) #ax + b = 0\n",
        "V_0 = x * 5.0 / 1024.0\n",
        "\n",
        "print( \"V_0 =\", V_0)\n",
        "\n",
        "print(\"hf = eV_0\")\n",
        "print(\"h = (e * V_0)/f = (e * V_0 * lambda) / c\")\n",
        "\n",
        "e = 1.9 * 10 ** (-19)\n",
        "c = 3.0 * 10 ** 8\n",
        "lambda_ = 512 * 10 ** (-9)\n",
        "h = ( e * V_0 * lambda_ ) / c\n",
        "\n",
        "print(h)\n",
        "\n",
        "error_ =  h - 6.626 * 10 ** (-34)\n",
        "\n",
        "print(\"\\n\", error_, \"Error :\", error_ / (6.626 * 10 ** (-34) ) )"
      ],
      "metadata": {
        "colab": {
          "base_uri": "https://localhost:8080/",
          "height": 655
        },
        "id": "eYvVFL2x3tAD",
        "outputId": "5932279c-2d97-4fc6-86d3-460a8b3aa980"
      },
      "execution_count": 3,
      "outputs": [
        {
          "output_type": "display_data",
          "data": {
            "text/plain": [
              "<Figure size 576x576 with 1 Axes>"
            ],
            "image/png": "[encoded data removed]"
          },
          "metadata": {
            "needs_background": "light"
          }
        },
        {
          "output_type": "stream",
          "name": "stdout",
          "text": [
            "y = 0.9573445782541605 x -419.5673100980813\n",
            "Accuracy : 0.9987678693348427\n",
            "V_0 = 2.13994893048258\n",
            "hf = eV_0\n",
            "h = (e * V_0)/f = (e * V_0 * lambda) / c\n",
            "6.939141065244845e-34\n",
            "\n",
            " 3.131410652448448e-35 Error : 0.047259442385276906\n"
          ]
        }
      ]
    },
    {
      "cell_type": "code",
      "source": [
        ""
      ],
      "metadata": {
        "id": "R7h3nl1o4DBH"
      },
      "execution_count": 28,
      "outputs": []
    }
  ]
}
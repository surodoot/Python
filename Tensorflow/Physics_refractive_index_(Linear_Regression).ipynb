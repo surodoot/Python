{
  "nbformat": 4,
  "nbformat_minor": 0,
  "metadata": {
    "colab": {
      "name": "Physics refractive index (Linear Regression)",
      "provenance": [],
      "authorship_tag": "ABX9TyM5mwFDZtz6uGOUoxbT4/r6",
      "include_colab_link": true
    },
    "kernelspec": {
      "name": "python3",
      "display_name": "Python 3"
    },
    "language_info": {
      "name": "python"
    }
  },
  "cells": [
    {
      "cell_type": "markdown",
      "metadata": {
        "id": "view-in-github",
        "colab_type": "text"
      },
      "source": [
        "<a href=\"https://colab.research.google.com/github/surodoot/Python/blob/main/Tensorflow/Physics_refractive_index_(Linear_Regression).ipynb\" target=\"_parent\"><img src=\"https://colab.research.google.com/assets/colab-badge.svg\" alt=\"Open In Colab\"/></a>"
      ]
    },
    {
      "cell_type": "code",
      "execution_count": null,
      "metadata": {
        "colab": {
          "base_uri": "https://localhost:8080/"
        },
        "id": "PFdej9baWBFm",
        "outputId": "f3190c41-8841-4e48-81bf-e3775787b0f7"
      },
      "outputs": [
        {
          "output_type": "stream",
          "name": "stdout",
          "text": [
            "0 20.850779 [-4.199519] [-2.1024036]\n",
            "1000 0.15105662 [-1.5995089] [1.3206936]\n",
            "2000 0.08821858 [-0.8735638] [1.0081098]\n",
            "3000 0.051520716 [-0.31879437] [0.7692322]\n",
            "4000 0.030088846 [0.1051634] [0.58668077]\n",
            "5000 0.01757248 [0.42915338] [0.44717425]\n",
            "6000 0.010262786 [0.67674905] [0.34056237]\n",
            "7000 0.0059939073 [0.8659615] [0.25908956]\n",
            "8000 0.0035008502 [1.0105581] [0.19682762]\n",
            "9000 0.0020448838 [1.1210598] [0.14924693]\n",
            "10000 0.0011945931 [1.2055049] [0.11288577]\n",
            "11000 0.00069801626 [1.2700384] [0.08509844]\n",
            "12000 0.00040801096 [1.319355] [0.06386326]\n",
            "13000 0.00023864605 [1.3570429] [0.04763529]\n",
            "14000 0.00013973459 [1.3858443] [0.03523374]\n",
            "15000 8.197001e-05 [1.4078542] [0.02575646]\n",
            "16000 4.8235495e-05 [1.4246739] [0.01851402]\n",
            "17000 2.8534376e-05 [1.4375273] [0.01297946]\n",
            "18000 1.702871e-05 [1.4473497] [0.00875011]\n",
            "19000 1.0309277e-05 [1.4548553] [0.00551818]\n",
            "20000 6.3849234e-06 [1.4605911] [0.00304837]\n",
            "21000 4.093143e-06 [1.4649734] [0.00116126]\n",
            "22000 2.7540775e-06 [1.4683237] [-0.00028069]\n",
            "23000 1.9727108e-06 [1.4708806] [-0.00138188]\n",
            "24000 1.5160786e-06 [1.4728345] [-0.00222382]\n",
            "25000 1.2494977e-06 [1.4743254] [-0.00286554]\n",
            "26000 1.0932215e-06 [1.4754679] [-0.00335792]\n",
            "27000 1.0018153e-06 [1.4763407] [-0.00373372]\n",
            "28000 9.4873013e-07 [1.4770023] [-0.00401791]\n",
            "29000 9.1722666e-07 [1.4775147] [-0.00423814]\n",
            "30000 8.989923e-07 [1.4779005] [-0.00440454]\n",
            "31000 8.881967e-07 [1.4781972] [-0.00453312]\n",
            "32000 8.8158595e-07 [1.4784356] [-0.0046344]\n",
            "33000 8.780483e-07 [1.4786] [-0.00470677]\n",
            "34000 8.7603166e-07 [1.4787192] [-0.00475741]\n",
            "35000 8.744666e-07 [1.4788384] [-0.00480805]\n",
            "36000 8.734336e-07 [1.4789525] [-0.00485719]\n",
            "37000 8.731433e-07 [1.4789923] [-0.00487559]\n",
            "38000 8.7309184e-07 [1.4790003] [-0.00487931]\n",
            "39000 8.730687e-07 [1.4790016] [-0.00487991]\n",
            "40000 8.730687e-07 [1.4790016] [-0.00487991]\n",
            "41000 8.730687e-07 [1.4790016] [-0.00487991]\n",
            "42000 8.730687e-07 [1.4790016] [-0.00487991]\n",
            "43000 8.730687e-07 [1.4790016] [-0.00487991]\n",
            "44000 8.730687e-07 [1.4790016] [-0.00487991]\n",
            "45000 8.730687e-07 [1.4790016] [-0.00487991]\n",
            "46000 8.730687e-07 [1.4790016] [-0.00487991]\n",
            "47000 8.730687e-07 [1.4790016] [-0.00487991]\n",
            "48000 8.730687e-07 [1.4790016] [-0.00487991]\n",
            "49000 8.730687e-07 [1.4790016] [-0.00487991]\n",
            "50000 8.730687e-07 [1.4790016] [-0.00487991]\n"
          ]
        },
        {
          "output_type": "display_data",
          "data": {
            "image/png": "[encoded data removed]",
            "text/plain": [
              "<Figure size 432x288 with 1 Axes>"
            ]
          },
          "metadata": {
            "needs_background": "light"
          }
        }
      ],
      "source": [
        "import numpy as np\n",
        "import matplotlib.pyplot as plt\n",
        "import tensorflow.compat.v1 as tf \n",
        "tf.disable_v2_behavior()\n",
        "\n",
        "y_data = [ 0.342, 0.5, 0.643, 0.766, 0.866 ]\n",
        "x_data = [ 0.234, 0.342, 0.438, 0.522, 0.588 ]\n",
        "\n",
        "W = tf.Variable(tf.random.uniform([1], -5.0, 5.0))\n",
        "b = tf.Variable(tf.random.uniform([1], -5.0, 5.0))\n",
        "\n",
        "X = tf.placeholder(tf.float32)\n",
        "Y = tf.placeholder(tf.float32)\n",
        "\n",
        "hypothesis = W * X + b\n",
        "\n",
        "cost = tf.reduce_mean(tf.square(hypothesis - Y))\n",
        "\n",
        "a = tf.Variable(0.01)\n",
        "optimizer = tf.train.GradientDescentOptimizer(a)\n",
        "train = optimizer.minimize(cost)\n",
        "\n",
        "init = tf.initialize_all_variables()\n",
        "\n",
        "sess = tf.Session()\n",
        "sess.run(init)\n",
        "\n",
        "for step in range(50001):\n",
        "    sess.run(train, feed_dict={X:x_data, Y:y_data})\n",
        "    if step % 1000 == 0:\n",
        "        print (step, sess.run(cost, feed_dict={X:x_data, Y:y_data}), sess.run(W), sess.run(b))\n",
        "\n",
        "plt.figure(1)\n",
        "plt.title('Linear Regression (Glass)')\n",
        "plt.xlabel('sin(theta 1)')\n",
        "plt.ylabel('sin(theta 2)')\n",
        "plt.plot(x_data, y_data, 'ro')\n",
        "plt.plot(x_data, sess.run(W) * x_data + sess.run(b), 'b')\n",
        "\n",
        "plt.show()"
      ]
    },
    {
      "cell_type": "code",
      "source": [
        "y_data_2 = [ 0.342, 0.5, 0.643, 0.766, 0.866 ]\n",
        "x_data_2 = [ 0.259, 0.375, 0.485, 0.574, 0.643 ]\n",
        "\n",
        "W = tf.Variable(tf.random.uniform([1], -5.0, 5.0))\n",
        "b = tf.Variable(tf.random.uniform([1], -5.0, 5.0))\n",
        "\n",
        "X = tf.placeholder(tf.float32)\n",
        "Y = tf.placeholder(tf.float32)\n",
        "\n",
        "hypothesis = W * X + b\n",
        "\n",
        "cost = tf.reduce_mean(tf.square(hypothesis - Y))\n",
        "\n",
        "a = tf.Variable(0.01)\n",
        "optimizer = tf.train.GradientDescentOptimizer(a)\n",
        "train = optimizer.minimize(cost)\n",
        "\n",
        "init = tf.initialize_all_variables()\n",
        "\n",
        "sess = tf.Session()\n",
        "sess.run(init)\n",
        "\n",
        "for step in range(50001):\n",
        "    sess.run(train, feed_dict={X: x_data_2, Y:y_data_2})\n",
        "    if step % 1000 == 0:\n",
        "        print (step, sess.run(cost, feed_dict={X:x_data_2, Y:y_data_2}), sess.run(W), sess.run(b))\n",
        "\n",
        "plt.figure(2)\n",
        "plt.title('Linear Regression 2 (Water)')\n",
        "plt.xlabel('sin(theta 1)')\n",
        "plt.ylabel('sin(theta 2)')\n",
        "plt.plot(x_data_2, y_data_2, 'ro')\n",
        "plt.plot(x_data_2, sess.run(W) * x_data_2 + sess.run(b), 'b')\n",
        "\n",
        "plt.show()"
      ],
      "metadata": {
        "colab": {
          "base_uri": "https://localhost:8080/"
        },
        "id": "D1zrQz8sYMoP",
        "outputId": "23358f10-d2b4-4e27-fad1-852d4b66d7c5"
      },
      "execution_count": null,
      "outputs": [
        {
          "output_type": "stream",
          "name": "stdout",
          "text": [
            "0 21.60371 [-4.261377] [-1.969054]\n",
            "1000 0.14949463 [-1.4518195] [1.3223041]\n",
            "2000 0.08052456 [-0.70444113] [0.9676437]\n",
            "3000 0.0433762 [-0.15593752] [0.7073571]\n",
            "4000 0.023367444 [0.2466127] [0.51633114]\n",
            "5000 0.012590393 [0.5420466] [0.37613612]\n",
            "6000 0.0067857048 [0.7588664] [0.27324656]\n",
            "7000 0.0036592006 [0.91799176] [0.19773535]\n",
            "8000 0.0019752132 [1.0347748] [0.14231709]\n",
            "9000 0.0010681876 [1.1204828] [0.1016454]\n",
            "10000 0.00057965703 [1.1833831] [0.07179668]\n",
            "11000 0.0003165225 [1.2295464] [0.04989038]\n",
            "12000 0.00017479404 [1.2634258] [0.03381331]\n",
            "13000 9.845772e-05 [1.2882895] [0.02201434]\n",
            "14000 5.7340447e-05 [1.3065375] [0.01335509]\n",
            "15000 3.519433e-05 [1.3199292] [0.00700006]\n",
            "16000 2.3266033e-05 [1.3297575] [0.00233627]\n",
            "17000 1.6841172e-05 [1.33697] [-0.00108626]\n",
            "18000 1.3380797e-05 [1.3422623] [-0.00359792]\n",
            "19000 1.1516921e-05 [1.346146] [-0.00544083]\n",
            "20000 1.0512541e-05 [1.3489959] [-0.00679319]\n",
            "21000 9.972256e-06 [1.351084] [-0.00778441]\n",
            "22000 9.680714e-06 [1.3526163] [-0.00851159]\n",
            "23000 9.523569e-06 [1.3537402] [-0.00904508]\n",
            "24000 9.438788e-06 [1.3545653] [-0.00943619]\n",
            "25000 9.392375e-06 [1.3551756] [-0.00972657]\n",
            "26000 9.367872e-06 [1.3556168] [-0.00993582]\n",
            "27000 9.354103e-06 [1.3559496] [-0.01009401]\n",
            "28000 9.346865e-06 [1.356188] [-0.0102055]\n",
            "29000 9.343103e-06 [1.3563596] [-0.01028844]\n",
            "30000 9.3410135e-06 [1.3564788] [-0.01034413]\n",
            "31000 9.339558e-06 [1.356598] [-0.01039982]\n",
            "32000 9.338854e-06 [1.3566856] [-0.0104425]\n",
            "33000 9.338711e-06 [1.3567061] [-0.0104529]\n",
            "34000 9.338695e-06 [1.3567103] [-0.01045504]\n",
            "35000 9.338786e-06 [1.3567108] [-0.01045528]\n",
            "36000 9.338786e-06 [1.3567108] [-0.01045528]\n",
            "37000 9.338786e-06 [1.3567108] [-0.01045528]\n",
            "38000 9.338786e-06 [1.3567108] [-0.01045528]\n",
            "39000 9.338786e-06 [1.3567108] [-0.01045528]\n",
            "40000 9.338786e-06 [1.3567108] [-0.01045528]\n",
            "41000 9.338786e-06 [1.3567108] [-0.01045528]\n",
            "42000 9.338786e-06 [1.3567108] [-0.01045528]\n",
            "43000 9.338786e-06 [1.3567108] [-0.01045528]\n",
            "44000 9.338786e-06 [1.3567108] [-0.01045528]\n",
            "45000 9.338786e-06 [1.3567108] [-0.01045528]\n",
            "46000 9.338786e-06 [1.3567108] [-0.01045528]\n",
            "47000 9.338786e-06 [1.3567108] [-0.01045528]\n",
            "48000 9.338786e-06 [1.3567108] [-0.01045528]\n",
            "49000 9.338786e-06 [1.3567108] [-0.01045528]\n",
            "50000 9.338786e-06 [1.3567108] [-0.01045528]\n"
          ]
        },
        {
          "output_type": "display_data",
          "data": {
            "image/png": "[encoded data removed]",
            "text/plain": [
              "<Figure size 432x288 with 1 Axes>"
            ]
          },
          "metadata": {
            "needs_background": "light"
          }
        }
      ]
    }
  ]
}
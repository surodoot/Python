{
  "nbformat": 4,
  "nbformat_minor": 0,
  "metadata": {
    "colab": {
      "name": "Tensorflow testing",
      "provenance": [],
      "authorship_tag": "ABX9TyOrCvCS0jhs0SLbv5pzn3iT",
      "include_colab_link": true
    },
    "kernelspec": {
      "name": "python3",
      "display_name": "Python 3"
    },
    "language_info": {
      "name": "python"
    }
  },
  "cells": [
    {
      "cell_type": "markdown",
      "metadata": {
        "id": "view-in-github",
        "colab_type": "text"
      },
      "source": [
        "<a href=\"https://colab.research.google.com/github/surodoot/Python/blob/main/Tensorflow/Sigmoid_function_Machine_Learning%231.ipynb\" target=\"_parent\"><img src=\"https://colab.research.google.com/assets/colab-badge.svg\" alt=\"Open In Colab\"/></a>"
      ]
    },
    {
      "cell_type": "code",
      "metadata": {
        "id": "AiW_S7iqx5LD"
      },
      "source": [
        " \n",
        "import tensorflow as tf\n",
        "import numpy as np\n",
        "import matplotlib.pyplot as plt\n",
        "import pandas as pd\n",
        " \n",
        "value = input(\"input :\")\n",
        " \n",
        "data = pd.read_csv('/content/drive/MyDrive/Colab Notebooks/한국보건의료인국가시험원_보건의료인국가시험 성적 현황_치과의사_20200529.csv', encoding='cp949')\n",
        "data_ = data[(data['연도'] == 2020) & (data['합격여부'] != '결시')]\n",
        "data_res = data_.sort_values(by = ['합격여부'])\n",
        "data_res = data_res.reset_index(drop=True)\n",
        "data_res = data_res.iloc[0:500]\n",
        "data_res = data_res.sample(frac=1) \n",
        "x_train_pd = data_res['총점']\n",
        "y_train_kor = data_res['합격여부']\n",
        "y_train_pd = [1 if i == '합격' else 0 for i in y_train_kor]\n",
        "x_train = tf.constant(x_train_pd, dtype=tf.float32) / 100\n",
        "y_train = tf.constant(y_train_pd, dtype=tf.float32)\n",
        " \n",
        "class classifier(tf.keras.Model):\n",
        "    def __init__(self):\n",
        "        super(classifier, self).__init__()\n",
        " \n",
        "        self.d1 = tf.keras.layers.Dense(units=1, activation='sigmoid')\n",
        " \n",
        "    def __call__(self, x):\n",
        "        predictions = self.d1(x)\n",
        "        return predictions\n",
        " \n",
        "EPOCHS = 20\n",
        "LR = 0.1\n",
        "model = classifier()\n",
        "loss_object = tf.keras.losses.BinaryCrossentropy()\n",
        "optimizer = tf.keras.optimizers.SGD(learning_rate = LR)\n",
        " \n",
        "loss_metric = tf.keras.metrics.Mean()\n",
        "acc_metric = tf.keras.metrics.CategoricalAccuracy()\n",
        " \n",
        "for epoch in range(EPOCHS):\n",
        "    for x, y in zip(x_train, y_train):\n",
        "        x = tf.reshape(x, (1, 1))\n",
        "        y = tf.reshape(y, (1, 1))\n",
        " \n",
        "        with tf.GradientTape() as tape:\n",
        "            predictions = model(x)\n",
        "            loss = loss_object(y, predictions)\n",
        " \n",
        "        gradients = tape.gradient(loss, model.trainable_variables)\n",
        "        optimizer.apply_gradients(zip(gradients, model.trainable_variables))\n",
        "        \n",
        "        loss_metric(loss)\n",
        "        acc_metric(y, predictions)\n",
        " \n",
        "    print(\"EPOCH: \", epoch+1)\n",
        "    template = 'Train Loss: {:.4f}\\t Train Accuracy: {:.2f}%'\n",
        " \n",
        "    ds_loss = loss_metric.result()\n",
        "    ds_acc = acc_metric.result()\n",
        " \n",
        "    print(template.format(ds_loss, ds_acc*100))\n",
        " \n",
        "    loss_metric.reset_states()\n",
        "    acc_metric.reset_states()\n",
        " \n",
        "test_set = np.arange(0, 3, 0.01, np.float32)\n",
        "plt.plot(test_set, model(tf.reshape(tf.constant(test_set), (len(test_set), 1))).numpy(), alpha=0.5, color='red')\n",
        "plt.scatter(x_train, y_train, s=1)\n",
        "plt.show()"
      ],
      "execution_count": null,
      "outputs": []
    }
  ]
}
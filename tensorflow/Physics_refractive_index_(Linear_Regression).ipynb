{
  "nbformat": 4,
  "nbformat_minor": 0,
  "metadata": {
    "colab": {
      "name": "Physics refractive index (Linear Regression)",
      "provenance": [],
      "authorship_tag": "ABX9TyM2Uj6+d9fqfhMopEPv2YP6",
      "include_colab_link": true
    },
    "kernelspec": {
      "name": "python3",
      "display_name": "Python 3"
    },
    "language_info": {
      "name": "python"
    }
  },
  "cells": [
    {
      "cell_type": "markdown",
      "metadata": {
        "id": "view-in-github",
        "colab_type": "text"
      },
      "source": [
        "<a href=\"https://colab.research.google.com/github/surodoot/Python/blob/main/tensorflow/Physics_refractive_index_(Linear_Regression).ipynb\" target=\"_parent\"><img src=\"https://colab.research.google.com/assets/colab-badge.svg\" alt=\"Open In Colab\"/></a>"
      ]
    },
    {
      "cell_type": "code",
      "execution_count": 7,
      "metadata": {
        "colab": {
          "base_uri": "https://localhost:8080/",
          "height": 1000
        },
        "id": "PFdej9baWBFm",
        "outputId": "3045bd3f-7ef3-4333-cbff-a6e849516c89"
      },
      "outputs": [
        {
          "output_type": "stream",
          "name": "stdout",
          "text": [
            "0 28.902609 [-0.39591566] [-4.5793266]\n",
            "1000 6.0105336e-05 [1.5401541] [-0.03121048]\n",
            "2000 3.5466663e-05 [1.52578] [-0.02502096]\n",
            "3000 2.107692e-05 [1.5147951] [-0.02029102]\n",
            "4000 1.2673188e-05 [1.5064007] [-0.01667656]\n",
            "5000 7.7658415e-06 [1.4999869] [-0.01391466]\n",
            "6000 4.8997317e-06 [1.4950856] [-0.01180425]\n",
            "7000 3.2253633e-06 [1.4913397] [-0.0101914]\n",
            "8000 2.2480237e-06 [1.4884796] [-0.00895965]\n",
            "9000 1.677014e-06 [1.4862943] [-0.00801855]\n",
            "10000 1.3432774e-06 [1.4846245] [-0.00729929]\n",
            "11000 1.1481382e-06 [1.483348] [-0.00674965]\n",
            "12000 1.0343604e-06 [1.482376] [-0.0063311]\n",
            "13000 9.670035e-07 [1.481624] [-0.0060079]\n",
            "14000 9.2838934e-07 [1.4810619] [-0.00576526]\n",
            "15000 9.054149e-07 [1.4806266] [-0.00557778]\n",
            "16000 8.9148324e-07 [1.4802806] [-0.00542901]\n",
            "17000 8.8412514e-07 [1.4800419] [-0.00532685]\n",
            "18000 8.79026e-07 [1.4798281] [-0.00523387]\n",
            "19000 8.768194e-07 [1.4797087] [-0.00518278]\n",
            "20000 8.7508687e-07 [1.4795895] [-0.00513214]\n",
            "21000 8.738058e-07 [1.4794703] [-0.0050815]\n",
            "22000 8.7319876e-07 [1.4793956] [-0.00504799]\n",
            "23000 8.7310536e-07 [1.47938] [-0.00504077]\n",
            "24000 8.7306563e-07 [1.4793767] [-0.00503923]\n",
            "25000 8.7306563e-07 [1.4793767] [-0.00503923]\n",
            "26000 8.7306563e-07 [1.4793767] [-0.00503923]\n",
            "27000 8.7306563e-07 [1.4793767] [-0.00503923]\n",
            "28000 8.7306563e-07 [1.4793767] [-0.00503923]\n",
            "29000 8.7306563e-07 [1.4793767] [-0.00503923]\n",
            "30000 8.7306563e-07 [1.4793767] [-0.00503923]\n",
            "31000 8.7306563e-07 [1.4793767] [-0.00503923]\n",
            "32000 8.7306563e-07 [1.4793767] [-0.00503923]\n",
            "33000 8.7306563e-07 [1.4793767] [-0.00503923]\n",
            "34000 8.7306563e-07 [1.4793767] [-0.00503923]\n",
            "35000 8.7306563e-07 [1.4793767] [-0.00503923]\n",
            "36000 8.7306563e-07 [1.4793767] [-0.00503923]\n",
            "37000 8.7306563e-07 [1.4793767] [-0.00503923]\n",
            "38000 8.7306563e-07 [1.4793767] [-0.00503923]\n",
            "39000 8.7306563e-07 [1.4793767] [-0.00503923]\n",
            "40000 8.7306563e-07 [1.4793767] [-0.00503923]\n",
            "41000 8.7306563e-07 [1.4793767] [-0.00503923]\n",
            "42000 8.7306563e-07 [1.4793767] [-0.00503923]\n",
            "43000 8.7306563e-07 [1.4793767] [-0.00503923]\n",
            "44000 8.7306563e-07 [1.4793767] [-0.00503923]\n",
            "45000 8.7306563e-07 [1.4793767] [-0.00503923]\n",
            "46000 8.7306563e-07 [1.4793767] [-0.00503923]\n",
            "47000 8.7306563e-07 [1.4793767] [-0.00503923]\n",
            "48000 8.7306563e-07 [1.4793767] [-0.00503923]\n",
            "49000 8.7306563e-07 [1.4793767] [-0.00503923]\n",
            "50000 8.7306563e-07 [1.4793767] [-0.00503923]\n"
          ]
        },
        {
          "output_type": "display_data",
          "data": {
            "image/png": "[encoded data removed]",
            "text/plain": [
              "<Figure size 432x288 with 1 Axes>"
            ]
          },
          "metadata": {
            "needs_background": "light"
          }
        }
      ],
      "source": [
        "import numpy as np\n",
        "#import tensorflow as tf\n",
        "import matplotlib.pyplot as plt\n",
        "import tensorflow.compat.v1 as tf \n",
        "tf.disable_v2_behavior()\n",
        "\n",
        "y_data = [ 0.342, 0.5, 0.643, 0.766, 0.866 ]\n",
        "x_data = [ 0.234, 0.342, 0.438, 0.522, 0.588 ]\n",
        "\n",
        "W = tf.Variable(tf.random.uniform([1], -5.0, 5.0))\n",
        "b = tf.Variable(tf.random.uniform([1], -5.0, 5.0))\n",
        "\n",
        "X = tf.placeholder(tf.float32)\n",
        "Y = tf.placeholder(tf.float32)\n",
        "\n",
        "hypothesis = W * X + b\n",
        "\n",
        "cost = tf.reduce_mean(tf.square(hypothesis - Y))\n",
        "\n",
        "a = tf.Variable(0.01)\n",
        "optimizer = tf.train.GradientDescentOptimizer(a)\n",
        "train = optimizer.minimize(cost)\n",
        "\n",
        "init = tf.initialize_all_variables()\n",
        "\n",
        "sess = tf.Session()\n",
        "sess.run(init)\n",
        "\n",
        "for step in range(50001):\n",
        "    sess.run(train, feed_dict={X:x_data, Y:y_data})\n",
        "    if step % 1000 == 0:\n",
        "        print (step, sess.run(cost, feed_dict={X:x_data, Y:y_data}), sess.run(W), sess.run(b))\n",
        "'''\n",
        "answer = sess.run(hypothesis, feed_dict={X:5})\n",
        "print 'When X=5, hypothesis = ' + str(answer)\n",
        "'''\n",
        "# Show the linear regression result\n",
        "plt.figure(1)\n",
        "plt.title('Linear Regression')\n",
        "plt.xlabel('sin(theta 1)')\n",
        "plt.ylabel('sin(theta 2)')\n",
        "# 주어진 데이터들을 점으로 표시\n",
        "plt.plot(x_data, y_data, 'ro')\n",
        "# 예측한 일차함수를 직선으로 표시\n",
        "plt.plot(x_data, sess.run(W) * x_data + sess.run(b), 'b')\n",
        "\n",
        "plt.show()"
      ]
    },
    {
      "cell_type": "code",
      "source": [
        "y_data_2 = [ 0.342, 0.5, 0.643, 0.766, 0.866 ]\n",
        "x_data_2 = [ 0.259, 0.375, 0.485, 0.574, 0.643 ]\n",
        "\n",
        "W = tf.Variable(tf.random.uniform([1], -5.0, 5.0))\n",
        "b = tf.Variable(tf.random.uniform([1], -5.0, 5.0))\n",
        "\n",
        "X = tf.placeholder(tf.float32)\n",
        "Y = tf.placeholder(tf.float32)\n",
        "\n",
        "hypothesis = W * X + b\n",
        "\n",
        "cost = tf.reduce_mean(tf.square(hypothesis - Y))\n",
        "\n",
        "a = tf.Variable(0.01)\n",
        "optimizer = tf.train.GradientDescentOptimizer(a)\n",
        "train = optimizer.minimize(cost)\n",
        "\n",
        "init = tf.initialize_all_variables()\n",
        "\n",
        "sess = tf.Session()\n",
        "sess.run(init)\n",
        "\n",
        "for step in range(50001):\n",
        "    sess.run(train, feed_dict={X: x_data_2, Y:y_data_2})\n",
        "    if step % 1000 == 0:\n",
        "        print (step, sess.run(cost, feed_dict={X:x_data_2, Y:y_data_2}), sess.run(W), sess.run(b))\n",
        "\n",
        "plt.figure(2)\n",
        "plt.title('Linear Regression 2 (water)')\n",
        "plt.xlabel('sin(theta 1)')\n",
        "plt.ylabel('sin(theta 2)')\n",
        "plt.plot(x_data_2, y_data_2, 'ro')\n",
        "plt.plot(x_data_2, sess.run(W) * x_data_2 + sess.run(b), 'b')\n",
        "\n",
        "plt.show()"
      ],
      "metadata": {
        "colab": {
          "base_uri": "https://localhost:8080/",
          "height": 1000
        },
        "id": "D1zrQz8sYMoP",
        "outputId": "7444fbda-4a57-48d4-d203-9b8cf438cd39"
      },
      "execution_count": 13,
      "outputs": [
        {
          "output_type": "stream",
          "name": "stdout",
          "text": [
            "0 14.499994 [2.7228165] [-4.4519525]\n",
            "1000 0.082048275 [3.4375913] [-0.99791396]\n",
            "2000 0.044196773 [2.88392] [-0.7351751]\n",
            "3000 0.023809472 [2.4775803] [-0.5423508]\n",
            "4000 0.012828512 [2.1793656] [-0.40083593]\n",
            "5000 0.006913929 [1.9605019] [-0.29697692]\n",
            "6000 0.0037282617 [1.7998778] [-0.22075434]\n",
            "7000 0.002012406 [1.6819948] [-0.16481405]\n",
            "8000 0.0010882239 [1.5954804] [-0.12375972]\n",
            "9000 0.0005904421 [1.5319867] [-0.09362952]\n",
            "10000 0.0003223306 [1.4853885] [-0.07151682]\n",
            "11000 0.00017792374 [1.4511907] [-0.05528854]\n",
            "12000 0.000100141755 [1.4260924] [-0.04337846]\n",
            "13000 5.8247766e-05 [1.407673] [-0.03463767]\n",
            "14000 3.5683035e-05 [1.394155] [-0.02822285]\n",
            "15000 2.3529221e-05 [1.3842345] [-0.02351512]\n",
            "16000 1.6983106e-05 [1.3769544] [-0.02006036]\n",
            "17000 1.3457134e-05 [1.371612] [-0.01752513]\n",
            "18000 1.1558221e-05 [1.3676924] [-0.01566496]\n",
            "19000 1.0534737e-05 [1.3648149] [-0.01430017]\n",
            "20000 9.984134e-06 [1.3627071] [-0.01329905]\n",
            "21000 9.687213e-06 [1.3611604] [-0.01256501]\n",
            "22000 9.527039e-06 [1.3600256] [-0.01202642]\n",
            "23000 9.440599e-06 [1.3591933] [-0.01163185]\n",
            "24000 9.393492e-06 [1.3585757] [-0.01133835]\n",
            "25000 9.368316e-06 [1.3581309] [-0.01112715]\n",
            "26000 9.354441e-06 [1.3577945] [-0.01096737]\n",
            "27000 9.34717e-06 [1.3575561] [-0.01085579]\n",
            "28000 9.343055e-06 [1.357381] [-0.01077119]\n",
            "29000 9.341051e-06 [1.3572618] [-0.01071549]\n",
            "30000 9.339514e-06 [1.3571426] [-0.0106598]\n",
            "31000 9.338923e-06 [1.3570527] [-0.01061608]\n",
            "32000 9.338632e-06 [1.3570312] [-0.0106052]\n",
            "33000 9.3386525e-06 [1.3570266] [-0.01060284]\n",
            "34000 9.338617e-06 [1.3570266] [-0.01060282]\n",
            "35000 9.338617e-06 [1.3570266] [-0.01060282]\n",
            "36000 9.338617e-06 [1.3570266] [-0.01060282]\n",
            "37000 9.338617e-06 [1.3570266] [-0.01060282]\n",
            "38000 9.338617e-06 [1.3570266] [-0.01060282]\n",
            "39000 9.338617e-06 [1.3570266] [-0.01060282]\n",
            "40000 9.338617e-06 [1.3570266] [-0.01060282]\n",
            "41000 9.338617e-06 [1.3570266] [-0.01060282]\n",
            "42000 9.338617e-06 [1.3570266] [-0.01060282]\n",
            "43000 9.338617e-06 [1.3570266] [-0.01060282]\n",
            "44000 9.338617e-06 [1.3570266] [-0.01060282]\n",
            "45000 9.338617e-06 [1.3570266] [-0.01060282]\n",
            "46000 9.338617e-06 [1.3570266] [-0.01060282]\n",
            "47000 9.338617e-06 [1.3570266] [-0.01060282]\n",
            "48000 9.338617e-06 [1.3570266] [-0.01060282]\n",
            "49000 9.338617e-06 [1.3570266] [-0.01060282]\n",
            "50000 9.338617e-06 [1.3570266] [-0.01060282]\n"
          ]
        },
        {
          "output_type": "display_data",
          "data": {
            "image/png": "[encoded data removed]",
            "text/plain": [
              "<Figure size 432x288 with 1 Axes>"
            ]
          },
          "metadata": {
            "needs_background": "light"
          }
        }
      ]
    }
  ]
}